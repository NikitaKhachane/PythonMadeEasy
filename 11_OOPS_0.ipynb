{
  "nbformat": 4,
  "nbformat_minor": 0,
  "metadata": {
    "colab": {
      "provenance": []
    },
    "kernelspec": {
      "name": "python3",
      "display_name": "Python 3"
    },
    "language_info": {
      "name": "python"
    }
  },
  "cells": [
    {
      "cell_type": "code",
      "source": [
        "l = [1,2,3,4,5,6]\n",
        "\n",
        "for i in l: print(i)"
      ],
      "metadata": {
        "colab": {
          "base_uri": "https://localhost:8080/"
        },
        "id": "vfbbZHfXT31G",
        "outputId": "93919d45-dbe2-4b58-ae1e-4b532d7c92f4"
      },
      "execution_count": null,
      "outputs": [
        {
          "output_type": "stream",
          "name": "stdout",
          "text": [
            "1\n",
            "2\n",
            "3\n",
            "4\n",
            "5\n",
            "6\n"
          ]
        }
      ]
    },
    {
      "cell_type": "code",
      "execution_count": null,
      "metadata": {
        "id": "_bRx1dm1Tk48"
      },
      "outputs": [],
      "source": [
        "#OPPs :\n",
        "\n",
        "# Object Oriented Programming\n",
        "# it gives us capacity of creatign a structured module\n",
        "\n",
        "# it consist of these concepts classes, object , inheritance, polimorphisam, encapsulation\n",
        "#"
      ]
    },
    {
      "cell_type": "code",
      "source": [
        "# the code which is written without OOPs is called scripting\n",
        "# OOPs gives structure to your code"
      ],
      "metadata": {
        "id": "3RwXBh4cUsGG"
      },
      "execution_count": null,
      "outputs": []
    },
    {
      "cell_type": "code",
      "source": [
        "# talking abt any general thing like bird [Blueprint]\n",
        "# we wont understand which bird but we will get some sense of it\n",
        "# like it has wings, it flies etc (general  idea)\n",
        "\n",
        "# class   : Blueprint\n",
        "# object  : entity that really exist"
      ],
      "metadata": {
        "id": "D_DegmL8U1lj"
      },
      "execution_count": null,
      "outputs": []
    },
    {
      "cell_type": "code",
      "source": [
        "\"sudh\"# one type of strin\n",
        "\"kumar\"  #  BOTH ARE STRINGS\n",
        "# but we dont know what type of specific string are we supposed to give"
      ],
      "metadata": {
        "colab": {
          "base_uri": "https://localhost:8080/",
          "height": 35
        },
        "id": "EQA9jfPxdyO8",
        "outputId": "d10348ac-d74c-445c-a116-3e754c545fdc"
      },
      "execution_count": null,
      "outputs": [
        {
          "output_type": "execute_result",
          "data": {
            "text/plain": [
              "'kumar'"
            ],
            "application/vnd.google.colaboratory.intrinsic+json": {
              "type": "string"
            }
          },
          "metadata": {},
          "execution_count": 8
        }
      ]
    },
    {
      "cell_type": "code",
      "source": [
        "#OOPs\n",
        "\n",
        "# class: a reserved key word to create class"
      ],
      "metadata": {
        "id": "A8Ys3zHDel6c"
      },
      "execution_count": null,
      "outputs": []
    },
    {
      "cell_type": "code",
      "source": [
        "class car:\n",
        "  pass"
      ],
      "metadata": {
        "id": "oay9ggroe48N"
      },
      "execution_count": null,
      "outputs": []
    },
    {
      "cell_type": "code",
      "source": [
        "# we nne dto gett a output according to a perticular call\n",
        "\n",
        "# __init__ funciton is nothing but\n",
        "# whatever funciton in python that is inbuild that we try to reutilize/reuse\n",
        "\n",
        "# __init__(self,args*)\n",
        "\n",
        "# use :\n"
      ],
      "metadata": {
        "id": "dllnXv9ig8sP"
      },
      "execution_count": null,
      "outputs": []
    },
    {
      "cell_type": "code",
      "source": [
        "class car:\n",
        "  def __init__(self, brand_name, fule_type, Body_type):\n",
        "    self.brand_name = brand_name   # we write this coz\n",
        "    self.fule_type = fule_type\n",
        "    self.Body_type = Body_type\n",
        "\n",
        "  def desc_car(self):\n",
        "    print(self.brand_name, self.fule_type, self.Body_type)"
      ],
      "metadata": {
        "id": "eCtk9X1ugPNs"
      },
      "execution_count": null,
      "outputs": []
    },
    {
      "cell_type": "code",
      "source": [
        "innova = car()\n"
      ],
      "metadata": {
        "colab": {
          "base_uri": "https://localhost:8080/",
          "height": 141
        },
        "id": "GB5SUDtFjFXo",
        "outputId": "81efdba9-4567-406c-bbb7-ccd78e0c4ddd"
      },
      "execution_count": null,
      "outputs": [
        {
          "output_type": "error",
          "ename": "TypeError",
          "evalue": "car.__init__() missing 3 required positional arguments: 'brand_name', 'fule_type', and 'Body_type'",
          "traceback": [
            "\u001b[0;31m---------------------------------------------------------------------------\u001b[0m",
            "\u001b[0;31mTypeError\u001b[0m                                 Traceback (most recent call last)",
            "\u001b[0;32m<ipython-input-20-4739df149d2c>\u001b[0m in \u001b[0;36m<cell line: 0>\u001b[0;34m()\u001b[0m\n\u001b[0;32m----> 1\u001b[0;31m \u001b[0minnova\u001b[0m \u001b[0;34m=\u001b[0m \u001b[0mcar\u001b[0m\u001b[0;34m(\u001b[0m\u001b[0;34m)\u001b[0m\u001b[0;34m\u001b[0m\u001b[0;34m\u001b[0m\u001b[0m\n\u001b[0m",
            "\u001b[0;31mTypeError\u001b[0m: car.__init__() missing 3 required positional arguments: 'brand_name', 'fule_type', and 'Body_type'"
          ]
        }
      ]
    },
    {
      "cell_type": "code",
      "source": [
        "\n",
        "# it is expecting three inputs\n",
        "# coz we need the info in thaclass\n",
        "# but we didnt put args* so whhy is it asking for 3 args*\n",
        "\n",
        "# __init__ is an construction function\n",
        "# constructor : is a function/entity/method that helps our class to take an i/p or\n",
        "# or is responsible for providing a data to a perticular class as the time of creation of an object"
      ],
      "metadata": {
        "id": "D8MRv_dFiIDz"
      },
      "execution_count": null,
      "outputs": []
    },
    {
      "cell_type": "code",
      "source": [
        "# lets try to rpovide args*\n",
        "\n",
        "innova = car(\"toyota\",\"petrol\",\"suv\")\n",
        "\n",
        "# Q. So why do we hv a sextra self (the 4th arg\"self\") ?\n",
        "# ==> Constructor passes data to the class\n",
        "#     when we create an object __init__ gets the data but the car class is not aware about the data\n",
        "#     self  is pointer\n",
        "#     So, self.brand_name is basically a pointer\n",
        "#     the flow for a data we enterd is:\n",
        "#     from the object creation >> __init__ >> slef pointer >> to the class [class car in this case]\n",
        "#     the other function insde class will get those variable from self\n",
        "\n",
        "# Bottom Line :\n",
        "# aaounce that self.xyz = xys so that rest of the fnctions in that class can use it\n",
        "\n",
        "\n",
        "# in any class, if you ra trying to create any funciton the very forst variable U R supposed to cerate is a Pointer\n"
      ],
      "metadata": {
        "id": "UF25xhmTiLvS"
      },
      "execution_count": null,
      "outputs": []
    },
    {
      "cell_type": "code",
      "source": [
        "# same code from above\n",
        "\n",
        "class car:\n",
        "  def __init__(self, brand_name, fule_type, Body_type):\n",
        "    self.brand_name = brand_name   # we write this coz\n",
        "    self.fule_type = fule_type\n",
        "    self.Body_type = Body_type\n",
        "\n",
        "  def desc_car(self):   # hv to hv self here thet's how system understand this funciton is binded to class\n",
        "    print(self.brand_name, self.fule_type, self.Body_type)"
      ],
      "metadata": {
        "id": "qKbew84bpV7w"
      },
      "execution_count": null,
      "outputs": []
    },
    {
      "cell_type": "code",
      "source": [
        "innova = car(\"toyota\",\"petrol\",\"suv\")\n",
        "\n"
      ],
      "metadata": {
        "id": "vWNtW4LcqEAV"
      },
      "execution_count": null,
      "outputs": []
    },
    {
      "cell_type": "code",
      "source": [
        "innova.desc_car()"
      ],
      "metadata": {
        "colab": {
          "base_uri": "https://localhost:8080/"
        },
        "id": "vmsXQ9_-jQpc",
        "outputId": "cbed65e8-543d-4c55-839a-8d6114059d21"
      },
      "execution_count": null,
      "outputs": [
        {
          "output_type": "stream",
          "name": "stdout",
          "text": [
            "toyota petrol suv\n"
          ]
        }
      ]
    },
    {
      "cell_type": "code",
      "source": [
        "# to acces brand name\n",
        "\n",
        "innova.brand_name"
      ],
      "metadata": {
        "colab": {
          "base_uri": "https://localhost:8080/",
          "height": 35
        },
        "id": "u3FdyHivo-oG",
        "outputId": "93c59c1d-ca29-43aa-fc46-1cc7539a4492"
      },
      "execution_count": null,
      "outputs": [
        {
          "output_type": "execute_result",
          "data": {
            "text/plain": [
              "'toyota'"
            ],
            "application/vnd.google.colaboratory.intrinsic+json": {
              "type": "string"
            }
          },
          "metadata": {},
          "execution_count": 34
        }
      ]
    },
    {
      "cell_type": "code",
      "source": [
        "innova = car(\"toyota\",\"petrol\",\"suv\")\n",
        "nexon = car(\"tata\",\"disel\",\"xuv\")\n",
        "fortuner = car(\"toyota\",\"electric\",\"ecar\")\n",
        "# here we can say innova, nexon and fortuner exist in real but class car does not exist like the bird example"
      ],
      "metadata": {
        "id": "F3-GQ1AL0ibH"
      },
      "execution_count": null,
      "outputs": []
    },
    {
      "cell_type": "code",
      "source": [
        "innova.desc_car()"
      ],
      "metadata": {
        "colab": {
          "base_uri": "https://localhost:8080/"
        },
        "id": "MRr2-x-70igd",
        "outputId": "bc2ecffa-ade4-4bbc-8c1c-e06ff7cb79a9"
      },
      "execution_count": null,
      "outputs": [
        {
          "output_type": "stream",
          "name": "stdout",
          "text": [
            "toyota petrol suv\n"
          ]
        }
      ]
    },
    {
      "cell_type": "code",
      "source": [
        "nexon.desc_car()"
      ],
      "metadata": {
        "colab": {
          "base_uri": "https://localhost:8080/"
        },
        "id": "nH1XN21s0ijk",
        "outputId": "d72fd3a2-2f75-4ddf-8ee6-4d1e6987b1ea"
      },
      "execution_count": null,
      "outputs": [
        {
          "output_type": "stream",
          "name": "stdout",
          "text": [
            "tata disel xuv\n"
          ]
        }
      ]
    },
    {
      "cell_type": "code",
      "source": [
        "fortuner.desc_car()"
      ],
      "metadata": {
        "colab": {
          "base_uri": "https://localhost:8080/"
        },
        "id": "Nb2nf7_I0imU",
        "outputId": "385232d3-d0aa-452a-d6d9-3b6ccca03d58"
      },
      "execution_count": null,
      "outputs": [
        {
          "output_type": "stream",
          "name": "stdout",
          "text": [
            "toyota electric ecar\n"
          ]
        }
      ]
    },
    {
      "cell_type": "code",
      "source": [
        "a= 10\n",
        "# a is an variable of integer class\n",
        "print(type(a))"
      ],
      "metadata": {
        "colab": {
          "base_uri": "https://localhost:8080/"
        },
        "id": "vW2WqH3c0ipp",
        "outputId": "a9fc1fdb-7c82-44ab-8439-89fc2a1d28e5"
      },
      "execution_count": null,
      "outputs": [
        {
          "output_type": "stream",
          "name": "stdout",
          "text": [
            "<class 'int'>\n"
          ]
        }
      ]
    },
    {
      "cell_type": "code",
      "source": [],
      "metadata": {
        "id": "qqIVWSAG0isu"
      },
      "execution_count": null,
      "outputs": []
    },
    {
      "cell_type": "code",
      "source": [],
      "metadata": {
        "id": "ShhOHwET0ivo"
      },
      "execution_count": null,
      "outputs": []
    },
    {
      "cell_type": "code",
      "source": [],
      "metadata": {
        "id": "T737JZZ-0izJ"
      },
      "execution_count": null,
      "outputs": []
    },
    {
      "cell_type": "code",
      "source": [],
      "metadata": {
        "id": "aYpyY0lb0i2X"
      },
      "execution_count": null,
      "outputs": []
    },
    {
      "cell_type": "code",
      "source": [],
      "metadata": {
        "id": "ZiIBY8Xk0i5m"
      },
      "execution_count": null,
      "outputs": []
    },
    {
      "cell_type": "code",
      "source": [],
      "metadata": {
        "id": "w-fqaauq0i8v"
      },
      "execution_count": null,
      "outputs": []
    },
    {
      "cell_type": "code",
      "source": [],
      "metadata": {
        "id": "ZSQwyqun0jAM"
      },
      "execution_count": null,
      "outputs": []
    },
    {
      "cell_type": "code",
      "source": [],
      "metadata": {
        "id": "KfWvsyCT0jDY"
      },
      "execution_count": null,
      "outputs": []
    },
    {
      "cell_type": "code",
      "source": [],
      "metadata": {
        "id": "C0EvFs3r0jGo"
      },
      "execution_count": null,
      "outputs": []
    },
    {
      "cell_type": "code",
      "source": [],
      "metadata": {
        "id": "z667TP9p0jKC"
      },
      "execution_count": null,
      "outputs": []
    },
    {
      "cell_type": "code",
      "source": [],
      "metadata": {
        "id": "IiENC7Gw0jNB"
      },
      "execution_count": null,
      "outputs": []
    },
    {
      "cell_type": "code",
      "source": [],
      "metadata": {
        "id": "L_qlipfW0jQR"
      },
      "execution_count": null,
      "outputs": []
    },
    {
      "cell_type": "code",
      "source": [],
      "metadata": {
        "id": "AiXRHpaz0jUJ"
      },
      "execution_count": null,
      "outputs": []
    },
    {
      "cell_type": "code",
      "source": [],
      "metadata": {
        "id": "orPu_Y1n0jXm"
      },
      "execution_count": null,
      "outputs": []
    },
    {
      "cell_type": "code",
      "source": [],
      "metadata": {
        "id": "FBlN3Tml0ja0"
      },
      "execution_count": null,
      "outputs": []
    },
    {
      "cell_type": "code",
      "source": [],
      "metadata": {
        "id": "RdSVAcwJ0jeG"
      },
      "execution_count": null,
      "outputs": []
    },
    {
      "cell_type": "code",
      "source": [],
      "metadata": {
        "id": "QSFNoU6T0jhM"
      },
      "execution_count": null,
      "outputs": []
    },
    {
      "cell_type": "code",
      "source": [],
      "metadata": {
        "id": "gKPPJAUU0jks"
      },
      "execution_count": null,
      "outputs": []
    },
    {
      "cell_type": "code",
      "source": [],
      "metadata": {
        "id": "bJ7D5gos0jn_"
      },
      "execution_count": null,
      "outputs": []
    },
    {
      "cell_type": "code",
      "source": [],
      "metadata": {
        "id": "56h5Edfi0jvZ"
      },
      "execution_count": null,
      "outputs": []
    },
    {
      "cell_type": "code",
      "source": [],
      "metadata": {
        "id": "xHvdHNCb0jyj"
      },
      "execution_count": null,
      "outputs": []
    },
    {
      "cell_type": "code",
      "source": [],
      "metadata": {
        "id": "RpDLfgBW0j2L"
      },
      "execution_count": null,
      "outputs": []
    },
    {
      "cell_type": "code",
      "source": [],
      "metadata": {
        "id": "WaTvjOfx0j56"
      },
      "execution_count": null,
      "outputs": []
    },
    {
      "cell_type": "code",
      "source": [],
      "metadata": {
        "id": "ipshuU_K0j8-"
      },
      "execution_count": null,
      "outputs": []
    },
    {
      "cell_type": "code",
      "source": [],
      "metadata": {
        "id": "LC-7k8vr0j_0"
      },
      "execution_count": null,
      "outputs": []
    },
    {
      "cell_type": "code",
      "source": [],
      "metadata": {
        "id": "M45xB1230kC6"
      },
      "execution_count": null,
      "outputs": []
    },
    {
      "cell_type": "code",
      "source": [],
      "metadata": {
        "id": "ikqXZJTw0kG_"
      },
      "execution_count": null,
      "outputs": []
    },
    {
      "cell_type": "code",
      "source": [],
      "metadata": {
        "id": "ORbiy9yv0kJw"
      },
      "execution_count": null,
      "outputs": []
    },
    {
      "cell_type": "code",
      "source": [
        "class animal:\n",
        "  def __init__(self,type_l,food,pet_stat):\n",
        "    self.type_l = type_l\n",
        "    self.food = food\n",
        "    self.pet_stat = pet_stat\n",
        "\n",
        "  def ani_des(self):\n",
        "    print(self.type_l, self.food, self.pet_stat)\n",
        "\n",
        "# obj_nm = cls_nm(args)\n",
        "dog = animal(\"labrador\",'veg-&_carni',\"can-be-pet\")"
      ],
      "metadata": {
        "id": "vlBtHUgjqYUh"
      },
      "execution_count": null,
      "outputs": []
    },
    {
      "cell_type": "code",
      "source": [
        "dog.type_l"
      ],
      "metadata": {
        "colab": {
          "base_uri": "https://localhost:8080/",
          "height": 35
        },
        "id": "7OTvQRpvsklC",
        "outputId": "53bff08e-3336-4873-8e4e-1ecbafbe7518"
      },
      "execution_count": null,
      "outputs": [
        {
          "output_type": "execute_result",
          "data": {
            "text/plain": [
              "'labrador'"
            ],
            "application/vnd.google.colaboratory.intrinsic+json": {
              "type": "string"
            }
          },
          "metadata": {},
          "execution_count": 41
        }
      ]
    },
    {
      "cell_type": "code",
      "source": [
        "dog.ani_des()"
      ],
      "metadata": {
        "colab": {
          "base_uri": "https://localhost:8080/"
        },
        "id": "Lwq9FVCPsnPj",
        "outputId": "3629534d-092f-47b5-cd48-f91ef4806994"
      },
      "execution_count": null,
      "outputs": [
        {
          "output_type": "stream",
          "name": "stdout",
          "text": [
            "labrador veg-&_carni can-be-pet\n"
          ]
        }
      ]
    },
    {
      "cell_type": "code",
      "source": [
        "dog.ani_des()"
      ],
      "metadata": {
        "colab": {
          "base_uri": "https://localhost:8080/"
        },
        "id": "mc-gqCjvsqH0",
        "outputId": "34001e0c-7229-4578-838c-f916fadc77d9"
      },
      "execution_count": null,
      "outputs": [
        {
          "output_type": "stream",
          "name": "stdout",
          "text": [
            "labrador veg-&_carni can-be-pet\n"
          ]
        }
      ]
    },
    {
      "cell_type": "code",
      "source": [],
      "metadata": {
        "id": "j56hurybsr17"
      },
      "execution_count": null,
      "outputs": []
    }
  ]
}