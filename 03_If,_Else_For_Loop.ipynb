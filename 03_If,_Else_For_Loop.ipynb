{
  "nbformat": 4,
  "nbformat_minor": 0,
  "metadata": {
    "colab": {
      "provenance": []
    },
    "kernelspec": {
      "name": "python3",
      "display_name": "Python 3"
    },
    "language_info": {
      "name": "python"
    }
  },
  "cells": [
    {
      "cell_type": "code",
      "execution_count": null,
      "metadata": {
        "id": "QJKkwWmLxeDu"
      },
      "outputs": [],
      "source": [
        "a = 10"
      ]
    },
    {
      "cell_type": "code",
      "source": [
        "a < 15"
      ],
      "metadata": {
        "colab": {
          "base_uri": "https://localhost:8080/"
        },
        "id": "qjsX-28gyFlw",
        "outputId": "7b3cd438-a8f7-4e12-c0f3-cbfe505d8132"
      },
      "execution_count": null,
      "outputs": [
        {
          "output_type": "execute_result",
          "data": {
            "text/plain": [
              "True"
            ]
          },
          "metadata": {},
          "execution_count": 3
        }
      ]
    },
    {
      "cell_type": "code",
      "source": [
        "a > 15"
      ],
      "metadata": {
        "colab": {
          "base_uri": "https://localhost:8080/"
        },
        "id": "GjgY5UaOyVPO",
        "outputId": "0487b08e-afcc-4629-b651-ce9569d3a5f5"
      },
      "execution_count": null,
      "outputs": [
        {
          "output_type": "execute_result",
          "data": {
            "text/plain": [
              "False"
            ]
          },
          "metadata": {},
          "execution_count": 4
        }
      ]
    },
    {
      "cell_type": "code",
      "source": [
        "if a < 15:\n",
        "  print(\"MY name is ram\")"
      ],
      "metadata": {
        "colab": {
          "base_uri": "https://localhost:8080/"
        },
        "id": "qkrVeIkKyZjv",
        "outputId": "c464bc81-b59d-4634-89c2-72e6aaadce3e"
      },
      "execution_count": null,
      "outputs": [
        {
          "output_type": "stream",
          "name": "stdout",
          "text": [
            "MY name is ram\n"
          ]
        }
      ]
    },
    {
      "cell_type": "code",
      "source": [
        "if a < 15:\n"
      ],
      "metadata": {
        "colab": {
          "base_uri": "https://localhost:8080/",
          "height": 106
        },
        "id": "gYyFqY5Ay01c",
        "outputId": "de634e09-5c04-4d19-9b0b-cc5ea18987e3"
      },
      "execution_count": null,
      "outputs": [
        {
          "output_type": "error",
          "ename": "SyntaxError",
          "evalue": "incomplete input (<ipython-input-7-1b8069a28b2f>, line 1)",
          "traceback": [
            "\u001b[0;36m  File \u001b[0;32m\"<ipython-input-7-1b8069a28b2f>\"\u001b[0;36m, line \u001b[0;32m1\u001b[0m\n\u001b[0;31m    if a < 15:\u001b[0m\n\u001b[0m              ^\u001b[0m\n\u001b[0;31mSyntaxError\u001b[0m\u001b[0;31m:\u001b[0m incomplete input\n"
          ]
        }
      ]
    },
    {
      "cell_type": "code",
      "source": [
        "if a < 15:\n",
        "  pass"
      ],
      "metadata": {
        "id": "uNpd_I3pzFbT"
      },
      "execution_count": null,
      "outputs": []
    },
    {
      "cell_type": "code",
      "source": [
        "if a < 15:\n",
        "  print(\"my name is ram\")"
      ],
      "metadata": {
        "colab": {
          "base_uri": "https://localhost:8080/"
        },
        "id": "zRO1DD-FzLB6",
        "outputId": "68acedc5-899f-4bad-c6b8-ed3dc8646729"
      },
      "execution_count": null,
      "outputs": [
        {
          "output_type": "stream",
          "name": "stdout",
          "text": [
            "my name is ram\n"
          ]
        }
      ]
    },
    {
      "cell_type": "code",
      "source": [
        "if 34 <15:\n",
        "  print(\"my name is ram\")"
      ],
      "metadata": {
        "id": "OG9oSDblzR0u"
      },
      "execution_count": null,
      "outputs": []
    },
    {
      "cell_type": "code",
      "source": [
        "if 10 < 3:\n",
        "  print(\"if exicuted\")\n",
        "else:\n",
        "  print(\"else exicuted\")"
      ],
      "metadata": {
        "colab": {
          "base_uri": "https://localhost:8080/"
        },
        "id": "2QKn9Rb4zZtc",
        "outputId": "73fb69cf-9728-4762-94fa-3ca7a738ea3d"
      },
      "execution_count": null,
      "outputs": [
        {
          "output_type": "stream",
          "name": "stdout",
          "text": [
            "else exicuted\n"
          ]
        }
      ]
    },
    {
      "cell_type": "code",
      "source": [
        "income = 100\n",
        "\n",
        "if income < 50:\n",
        "  print('i will buy phonw')\n",
        "elif income < 70:\n",
        "  print('i will buy car')\n",
        "elif income < 90:\n",
        "  print('i will buy house')\n",
        "else:\n",
        "  print('i will rent a house')"
      ],
      "metadata": {
        "colab": {
          "base_uri": "https://localhost:8080/"
        },
        "id": "H3QPHa8Wzv6D",
        "outputId": "76856ed0-cc01-461e-dc25-1cf8eb5da4e7"
      },
      "execution_count": null,
      "outputs": [
        {
          "output_type": "stream",
          "name": "stdout",
          "text": [
            "i will rent a house\n"
          ]
        }
      ]
    },
    {
      "cell_type": "code",
      "source": [
        "income = int(input())\n",
        "\n",
        "if income < 50:\n",
        "  print('i will buy phonw')\n",
        "elif income < 70:\n",
        "  print('i will buy car')\n",
        "elif income < 90:\n",
        "  print('i will buy house')\n",
        "else:\n",
        "  print('i will rent a house')"
      ],
      "metadata": {
        "colab": {
          "base_uri": "https://localhost:8080/"
        },
        "id": "bQkF3Vp90YZ2",
        "outputId": "65d8e44b-6c57-410c-8de8-b7bf342955ba"
      },
      "execution_count": null,
      "outputs": [
        {
          "output_type": "stream",
          "name": "stdout",
          "text": [
            "99\n",
            "i will rent a house\n"
          ]
        }
      ]
    },
    {
      "cell_type": "code",
      "source": [
        "total_price = int(input())\n",
        "\n",
        "if total_price > 20000:\n",
        "  discount = total_price * .20\n",
        "  print(\"discount will be = \",discount)\n",
        "elif total_price <= 7000:\n",
        "  discount = total_price * .05\n",
        "  print(\"discount = \", discount)\n",
        "else:\n",
        "  print(\"NONE\")"
      ],
      "metadata": {
        "colab": {
          "base_uri": "https://localhost:8080/"
        },
        "id": "xzSaGja60hNf",
        "outputId": "5ea77adb-30ff-4468-ade5-9370ee7673e4"
      },
      "execution_count": null,
      "outputs": [
        {
          "output_type": "stream",
          "name": "stdout",
          "text": [
            "7009\n",
            "NONE\n"
          ]
        }
      ]
    },
    {
      "cell_type": "code",
      "source": [
        "coup = input()\n",
        "if coup == 'NIKI':\n",
        "  print(\"get a discount of 5%\")\n",
        "  paid_amt = 7080- 7080*.05\n",
        "  print(\"pay amt = \",paid_amt)\n",
        "else:\n",
        "  print(\"Invalid code\")\n"
      ],
      "metadata": {
        "colab": {
          "base_uri": "https://localhost:8080/"
        },
        "id": "qrfz7gVP1inn",
        "outputId": "2a3442fe-e297-4140-b6c8-1f0624de9d39"
      },
      "execution_count": null,
      "outputs": [
        {
          "output_type": "stream",
          "name": "stdout",
          "text": [
            "kkkk\n",
            "Invalid code\n"
          ]
        }
      ]
    },
    {
      "cell_type": "code",
      "source": [
        "coup = input()\n",
        "if coup == 'NIKI':\n",
        "  print(\"get a discount of 5%\")\n",
        "  paid_amt = 7080- 7080*.05\n",
        "  print(\"pay amt = \",paid_amt)\n",
        "else:\n",
        "  print(\"Invalid code\")\n"
      ],
      "metadata": {
        "colab": {
          "base_uri": "https://localhost:8080/"
        },
        "id": "YB2E4LyR261w",
        "outputId": "7b57ac95-726e-4319-ff50-da38dce3aaf8"
      },
      "execution_count": null,
      "outputs": [
        {
          "output_type": "stream",
          "name": "stdout",
          "text": [
            "NIKI\n",
            "get a discount of 5%\n",
            "pay amt =  6726.0\n"
          ]
        }
      ]
    },
    {
      "cell_type": "code",
      "source": [
        "hr = int((input()))\n",
        "\n",
        "if hr < 2:\n",
        "  print(\"8-9 month\")\n",
        "elif hr <= 4 and hr > 1:\n",
        "  print(\"4-6 minths\")\n",
        "elif hr >= 5 and hr < 11:\n",
        "  print('3  month')\n",
        "else:\n",
        "  print(\"it will be difficult\")"
      ],
      "metadata": {
        "colab": {
          "base_uri": "https://localhost:8080/"
        },
        "id": "ktoiYs_w2_Vy",
        "outputId": "01bfc7a0-1dbf-44ba-b778-5d599eef64cc"
      },
      "execution_count": null,
      "outputs": [
        {
          "output_type": "stream",
          "name": "stdout",
          "text": [
            "4\n",
            "4-6 minths\n"
          ]
        }
      ]
    },
    {
      "cell_type": "code",
      "source": [
        "# in single line\n",
        "\n",
        "a = 9\n",
        "if a == 9:print(\"calid\")"
      ],
      "metadata": {
        "colab": {
          "base_uri": "https://localhost:8080/"
        },
        "id": "ArtMIvjM4k6o",
        "outputId": "b9310494-e0ad-4433-94bb-314926253ec1"
      },
      "execution_count": null,
      "outputs": [
        {
          "output_type": "stream",
          "name": "stdout",
          "text": [
            "calid\n"
          ]
        }
      ]
    },
    {
      "cell_type": "code",
      "source": [
        "s = input(\"eenter name of the cppurse : \")\n",
        "course = input()\n",
        "serv = input()\n",
        "\n",
        "if s == \"onew\":\n",
        "  if course == 'DSA':\n",
        "    print('avilable and interview prep too')\n",
        "  elif course ==\"Blockchain\":\n",
        "    print(\"not avilable\")\n",
        "  elif course == \"FSDS\":\n",
        "    print(\"you can start lerning\")\n",
        "  else:\n",
        "    print(\"kindly raise your demand\")\n",
        "elif s == \"servise\":\n",
        "  if serv == 'request':\n",
        "    print(\"note\")\n",
        "  elif serv == 'module':\n",
        "    print(\"will fulfil it in 90 days\")\n",
        "  elif serv == 'doubt clearing':\n",
        "    print(\"aaaaaaaaaaaa\")\n",
        "  else:\n",
        "    print(\"kindly give feedback\")\n",
        "else:\n",
        "  print(\"kindly pprovide your feedback\")"
      ],
      "metadata": {
        "colab": {
          "base_uri": "https://localhost:8080/"
        },
        "id": "_U4hXOm55Xq5",
        "outputId": "0d2c30b9-ead1-4e49-845a-4b08d110aa8d"
      },
      "execution_count": null,
      "outputs": [
        {
          "output_type": "stream",
          "name": "stdout",
          "text": [
            "eenter name of the cppurse : onew\n",
            "DSA\n",
            "reuest\n",
            "avilable and interview prep too\n"
          ]
        }
      ]
    },
    {
      "cell_type": "markdown",
      "source": [
        "**WHILE**"
      ],
      "metadata": {
        "id": "bRsEGKAR8_wn"
      }
    },
    {
      "cell_type": "code",
      "source": [
        "# While Loop"
      ],
      "metadata": {
        "id": "yCVMKcM66X2A"
      },
      "execution_count": null,
      "outputs": []
    },
    {
      "cell_type": "code",
      "source": [
        "l = [1,2,3,4,5,6,7]"
      ],
      "metadata": {
        "id": "sc4tnnyY8chM"
      },
      "execution_count": null,
      "outputs": []
    },
    {
      "cell_type": "code",
      "source": [
        "for i in l:\n",
        "  print(i)\n",
        "  print(\"next\")"
      ],
      "metadata": {
        "colab": {
          "base_uri": "https://localhost:8080/"
        },
        "id": "FPWIjaZDy3kw",
        "outputId": "622f48a0-431c-4d10-a69d-b310f0351223"
      },
      "execution_count": null,
      "outputs": [
        {
          "output_type": "stream",
          "name": "stdout",
          "text": [
            "1\n",
            "next\n",
            "2\n",
            "next\n",
            "3\n",
            "next\n",
            "4\n",
            "next\n",
            "5\n",
            "next\n",
            "6\n",
            "next\n",
            "7\n",
            "next\n"
          ]
        }
      ]
    },
    {
      "cell_type": "code",
      "source": [
        "for i in \"NIKITA\":\n",
        "  print(i)"
      ],
      "metadata": {
        "colab": {
          "base_uri": "https://localhost:8080/"
        },
        "id": "dFMEwmYQzD52",
        "outputId": "6f2891c7-10b6-4115-a6b4-b0c3409b1973"
      },
      "execution_count": null,
      "outputs": [
        {
          "output_type": "stream",
          "name": "stdout",
          "text": [
            "N\n",
            "I\n",
            "K\n",
            "I\n",
            "T\n",
            "A\n"
          ]
        }
      ]
    },
    {
      "cell_type": "code",
      "source": [
        "t = (1,2,3,4,5,6)\n",
        "\n",
        "for i in t:\n",
        "  print(i)"
      ],
      "metadata": {
        "colab": {
          "base_uri": "https://localhost:8080/"
        },
        "id": "1fxhRdAHzmvV",
        "outputId": "041496c8-b503-4afd-da6e-7011c15e00d9"
      },
      "execution_count": null,
      "outputs": [
        {
          "output_type": "stream",
          "name": "stdout",
          "text": [
            "1\n",
            "2\n",
            "3\n",
            "4\n",
            "5\n",
            "6\n"
          ]
        }
      ]
    },
    {
      "cell_type": "code",
      "source": [
        "l = [1,4,5.6,4.7j , \"nik\"]\n",
        "\n",
        "for i in l:\n",
        "  print(\"data type of \",i,\"=\",type(i))"
      ],
      "metadata": {
        "colab": {
          "base_uri": "https://localhost:8080/"
        },
        "id": "kc3NQkzizr3_",
        "outputId": "8c0fc460-01db-4368-96a0-dfdd4303d139"
      },
      "execution_count": null,
      "outputs": [
        {
          "output_type": "stream",
          "name": "stdout",
          "text": [
            "data type of  1 = <class 'int'>\n",
            "data type of  4 = <class 'int'>\n",
            "data type of  5.6 = <class 'float'>\n",
            "data type of  4.7j = <class 'complex'>\n",
            "data type of  nik = <class 'str'>\n"
          ]
        }
      ]
    },
    {
      "cell_type": "code",
      "source": [
        "l = [1,4,5.6]\n",
        "\n",
        "for i in l:\n",
        "  print(i+2)"
      ],
      "metadata": {
        "colab": {
          "base_uri": "https://localhost:8080/"
        },
        "id": "Us-zibfizr68",
        "outputId": "9abe1ab5-a95f-436d-ba3a-b005b42aa7bc"
      },
      "execution_count": null,
      "outputs": [
        {
          "output_type": "stream",
          "name": "stdout",
          "text": [
            "3\n",
            "6\n",
            "7.6\n"
          ]
        }
      ]
    },
    {
      "cell_type": "code",
      "source": [
        "l1 = []\n",
        "for i in l:\n",
        "  l1.append(i+2)\n",
        "\n",
        "l1"
      ],
      "metadata": {
        "colab": {
          "base_uri": "https://localhost:8080/"
        },
        "id": "gvrZ-jBkzr__",
        "outputId": "15323115-3d28-4381-e44c-6da497e92398"
      },
      "execution_count": null,
      "outputs": [
        {
          "output_type": "execute_result",
          "data": {
            "text/plain": [
              "[3, 6, 7.6]"
            ]
          },
          "metadata": {},
          "execution_count": 14
        }
      ]
    },
    {
      "cell_type": "code",
      "source": [
        "l = [2,4.5,65,12,\"nik\",6+6j,[2,3,4]]\n",
        "l1 = []\n",
        "\n",
        "for i in l:\n",
        "  if type(i) == float:\n",
        "    l1.append(i)\n",
        "  else:\n",
        "    print(\"--\",i,\"--\")\n",
        "\n",
        "print(\"\\n\\n\")\n",
        "print(\"int part  = \",l1)"
      ],
      "metadata": {
        "colab": {
          "base_uri": "https://localhost:8080/"
        },
        "id": "eLMSv545zsC9",
        "outputId": "7a14a8e6-0d60-4693-c8f0-7614fa66dab5"
      },
      "execution_count": null,
      "outputs": [
        {
          "output_type": "stream",
          "name": "stdout",
          "text": [
            "-- 2 --\n",
            "-- 65 --\n",
            "-- 12 --\n",
            "-- nik --\n",
            "-- (6+6j) --\n",
            "-- [2, 3, 4] --\n",
            "\n",
            "\n",
            "\n",
            "int part  =  [4.5]\n"
          ]
        }
      ]
    },
    {
      "cell_type": "code",
      "source": [
        "l = [2,4.5,65,12,\"nik\",6+6j,[2,3,4.5,65,6,0.4]]\n",
        "l1 = []\n",
        "\n",
        "for i in l:\n",
        "  if type(i) == int:\n",
        "    l1.append(i)\n",
        "  elif type(i) == list:\n",
        "    for j in i:\n",
        "      if type(j) == int:\n",
        "        l1.append(j)\n",
        "\n",
        "  else:\n",
        "    print(\"--\",i,\"--\")\n",
        "\n",
        "print(\"\\n\\n\")\n",
        "print(\"int part  = \",l1)"
      ],
      "metadata": {
        "colab": {
          "base_uri": "https://localhost:8080/"
        },
        "id": "kh12i2c92mSt",
        "outputId": "04dd8a24-375b-4a65-b50f-2d1ee624159f"
      },
      "execution_count": null,
      "outputs": [
        {
          "output_type": "stream",
          "name": "stdout",
          "text": [
            "-- 4.5 --\n",
            "-- nik --\n",
            "-- (6+6j) --\n",
            "\n",
            "\n",
            "\n",
            "int part  =  [2, 65, 12, 2, 3, 65, 6]\n"
          ]
        }
      ]
    },
    {
      "cell_type": "code",
      "source": [
        "# For else statment"
      ],
      "metadata": {
        "id": "fs2HqO5IzsFY"
      },
      "execution_count": null,
      "outputs": []
    },
    {
      "cell_type": "code",
      "source": [
        "for i in range(10):\n",
        "  print(i)"
      ],
      "metadata": {
        "colab": {
          "base_uri": "https://localhost:8080/"
        },
        "id": "hYDMrioZzsGW",
        "outputId": "42a8c849-5d2c-4358-86a2-11426616306d"
      },
      "execution_count": null,
      "outputs": [
        {
          "output_type": "stream",
          "name": "stdout",
          "text": [
            "0\n",
            "1\n",
            "2\n",
            "3\n",
            "4\n",
            "5\n",
            "6\n",
            "7\n",
            "8\n",
            "9\n"
          ]
        }
      ]
    },
    {
      "cell_type": "code",
      "source": [
        "l = [2,45,12,78,\"nik\",4+6j,[1,2,4,\"ggg\"]]\n",
        "\n",
        "# Q1) print index of all the elements\n",
        "\n",
        "for i in range(len(l)):\n",
        "  print(i)"
      ],
      "metadata": {
        "colab": {
          "base_uri": "https://localhost:8080/"
        },
        "id": "NDR4a_RLzsIP",
        "outputId": "2aa79ab6-2411-47de-af58-885c7d3c23cb"
      },
      "execution_count": null,
      "outputs": [
        {
          "output_type": "stream",
          "name": "stdout",
          "text": [
            "0\n",
            "1\n",
            "2\n",
            "3\n",
            "4\n",
            "5\n",
            "6\n"
          ]
        }
      ]
    },
    {
      "cell_type": "code",
      "source": [
        "for i in range(len(l)):\n",
        "  print(\"index =>\",i,\"  value =>\",l[i])"
      ],
      "metadata": {
        "colab": {
          "base_uri": "https://localhost:8080/"
        },
        "id": "UbUksF5tzsLJ",
        "outputId": "1b6c1b5f-16d2-4577-bbe0-0cb27740ff26"
      },
      "execution_count": null,
      "outputs": [
        {
          "output_type": "stream",
          "name": "stdout",
          "text": [
            "index => 0   value => 2\n",
            "index => 1   value => 45\n",
            "index => 2   value => 12\n",
            "index => 3   value => 78\n",
            "index => 4   value => nik\n",
            "index => 5   value => (4+6j)\n",
            "index => 6   value => [1, 2, 4, 'ggg']\n"
          ]
        }
      ]
    },
    {
      "cell_type": "code",
      "source": [
        "l"
      ],
      "metadata": {
        "colab": {
          "base_uri": "https://localhost:8080/"
        },
        "id": "_33sn9OS4M1N",
        "outputId": "97c96f64-d3f7-4cd5-fefd-9a0fb3e3d247"
      },
      "execution_count": null,
      "outputs": [
        {
          "output_type": "execute_result",
          "data": {
            "text/plain": [
              "[2, 45, 12, 78, 'nik', (4+6j), [1, 2, 4, 'ggg']]"
            ]
          },
          "metadata": {},
          "execution_count": 35
        }
      ]
    },
    {
      "cell_type": "code",
      "source": [
        "# Q2 try to extract all the list of char if elemnt is string\n",
        "\n",
        "l2 = []\n",
        "\n",
        "for i in l:\n",
        "  if type(i) == str:\n",
        "    l2.append(i)\n",
        "  elif type(i) == list:\n",
        "    for j in i:\n",
        "      if type(j) == str:\n",
        "        l2.append(j)\n",
        "      else:\n",
        "        print(\"...\")\n",
        "  else:\n",
        "    pass\n",
        "\n",
        "print(\"string list = \", l2)\n"
      ],
      "metadata": {
        "colab": {
          "base_uri": "https://localhost:8080/"
        },
        "id": "EDmPDOcyzsOZ",
        "outputId": "7de4cbad-2c16-4010-ef7e-45053e7cdbf0"
      },
      "execution_count": null,
      "outputs": [
        {
          "output_type": "stream",
          "name": "stdout",
          "text": [
            "...\n",
            "...\n",
            "...\n",
            "string list =  ['nik', 'ggg']\n"
          ]
        }
      ]
    },
    {
      "cell_type": "code",
      "source": [
        "# Q3 try to retrn a list after squar of all the int element\n",
        "\n",
        "lsq = []\n",
        "for i in l:\n",
        "  if type(i) == int or type(i) == float:\n",
        "    lsq.append(i**2)\n",
        "  else:\n",
        "    pass"
      ],
      "metadata": {
        "id": "NzSVJzdRzsRK"
      },
      "execution_count": null,
      "outputs": []
    },
    {
      "cell_type": "code",
      "source": [
        "lsq"
      ],
      "metadata": {
        "colab": {
          "base_uri": "https://localhost:8080/"
        },
        "id": "w6oaRnYFzsUL",
        "outputId": "6f72a5d1-f1ec-409e-c701-29886f1bc76f"
      },
      "execution_count": null,
      "outputs": [
        {
          "output_type": "execute_result",
          "data": {
            "text/plain": [
              "[4, 2025, 144, 6084]"
            ]
          },
          "metadata": {},
          "execution_count": 49
        }
      ]
    },
    {
      "cell_type": "code",
      "source": [],
      "metadata": {
        "id": "ekl8NgIUzsXR"
      },
      "execution_count": null,
      "outputs": []
    },
    {
      "cell_type": "code",
      "source": [],
      "metadata": {
        "id": "YSaGZ07xzsZ1"
      },
      "execution_count": null,
      "outputs": []
    },
    {
      "cell_type": "code",
      "source": [],
      "metadata": {
        "id": "JDRXCq-ezscp"
      },
      "execution_count": null,
      "outputs": []
    },
    {
      "cell_type": "code",
      "source": [],
      "metadata": {
        "id": "lMlIHpRZzsfp"
      },
      "execution_count": null,
      "outputs": []
    },
    {
      "cell_type": "code",
      "source": [],
      "metadata": {
        "id": "9uAKYvoizsiq"
      },
      "execution_count": null,
      "outputs": []
    },
    {
      "cell_type": "code",
      "source": [],
      "metadata": {
        "id": "iIP9TcNYzsmE"
      },
      "execution_count": null,
      "outputs": []
    },
    {
      "cell_type": "code",
      "source": [],
      "metadata": {
        "id": "-tpzBVMizspR"
      },
      "execution_count": null,
      "outputs": []
    },
    {
      "cell_type": "code",
      "source": [],
      "metadata": {
        "id": "tYU3sRLUzssk"
      },
      "execution_count": null,
      "outputs": []
    },
    {
      "cell_type": "code",
      "source": [],
      "metadata": {
        "id": "DrEjVsTzzswN"
      },
      "execution_count": null,
      "outputs": []
    },
    {
      "cell_type": "code",
      "source": [],
      "metadata": {
        "id": "cmJ3eif7zszO"
      },
      "execution_count": null,
      "outputs": []
    },
    {
      "cell_type": "code",
      "source": [],
      "metadata": {
        "id": "XZ0FHgyuzs2H"
      },
      "execution_count": null,
      "outputs": []
    },
    {
      "cell_type": "code",
      "source": [],
      "metadata": {
        "id": "dR3kFvCOzs5B"
      },
      "execution_count": null,
      "outputs": []
    },
    {
      "cell_type": "code",
      "source": [],
      "metadata": {
        "id": "GS_zoycBzs8A"
      },
      "execution_count": null,
      "outputs": []
    }
  ]
}