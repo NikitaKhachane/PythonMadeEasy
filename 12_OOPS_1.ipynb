{
  "nbformat": 4,
  "nbformat_minor": 0,
  "metadata": {
    "colab": {
      "provenance": []
    },
    "kernelspec": {
      "name": "python3",
      "display_name": "Python 3"
    },
    "language_info": {
      "name": "python"
    }
  },
  "cells": [
    {
      "cell_type": "code",
      "execution_count": null,
      "metadata": {
        "id": "8YpvgEF62XO-"
      },
      "outputs": [],
      "source": [
        "class car:\n",
        "  def __init__(self, bodyt, engin, fulet):\n",
        "    self.bodyt = bodyt\n",
        "    self.engin = engin\n",
        "    self.fulet = fulet  # this self.var_nm is actully a calss variable\n",
        "    # their value is accesed is we tryto get the value of the variables or any object\n",
        "\n",
        "  def test(self):\n",
        "    print(\"this is my 1st method in my car class\")\n",
        "    print(self.bodyt)\n",
        "\n",
        "# __init__ is a constructor that is responsible for providing data to a classs"
      ]
    },
    {
      "cell_type": "code",
      "source": [
        "fortuner = car(\"suv\",\"bs$\",\"petrol\")"
      ],
      "metadata": {
        "id": "VDpFdW2U36HL"
      },
      "execution_count": null,
      "outputs": []
    },
    {
      "cell_type": "code",
      "source": [
        "# now what will my car class is going to do with this data"
      ],
      "metadata": {
        "id": "qZiLPLWJ4FP6"
      },
      "execution_count": null,
      "outputs": []
    },
    {
      "cell_type": "code",
      "source": [
        "nexon = car(\"suv\",\"abc\",\"petrol\")"
      ],
      "metadata": {
        "id": "GaxUgUAl4vtr"
      },
      "execution_count": null,
      "outputs": []
    },
    {
      "cell_type": "code",
      "source": [
        "nexon.engin"
      ],
      "metadata": {
        "colab": {
          "base_uri": "https://localhost:8080/",
          "height": 35
        },
        "id": "ZzGqzklF7vY-",
        "outputId": "9e91dc7e-187a-4b73-9a06-305d8d324072"
      },
      "execution_count": null,
      "outputs": [
        {
          "output_type": "execute_result",
          "data": {
            "text/plain": [
              "'abc'"
            ],
            "application/vnd.google.colaboratory.intrinsic+json": {
              "type": "string"
            }
          },
          "metadata": {},
          "execution_count": 12
        }
      ]
    },
    {
      "cell_type": "code",
      "source": [
        "fortuner.bodyt"
      ],
      "metadata": {
        "colab": {
          "base_uri": "https://localhost:8080/",
          "height": 35
        },
        "id": "_eIyx-c-8JOp",
        "outputId": "de8f4e96-453f-4548-fca4-c04ba2d83090"
      },
      "execution_count": null,
      "outputs": [
        {
          "output_type": "execute_result",
          "data": {
            "text/plain": [
              "'suv'"
            ],
            "application/vnd.google.colaboratory.intrinsic+json": {
              "type": "string"
            }
          },
          "metadata": {},
          "execution_count": 13
        }
      ]
    },
    {
      "cell_type": "code",
      "source": [
        "class car:\n",
        "  def __init__(self, bodyt, engin, fulet):\n",
        "    self.bodyt_1 = bodyt  # changed the bodyt_1 from bodyt\n",
        "    self.engin = engin\n",
        "    self.fulet = fulet  # this self.var_nm is actully a calss variable\n",
        "    # their value is accesed is we tryto get the value of the variables or any object\n",
        "\n",
        "  def test(self):\n",
        "    print(\"this is my 1st method in my car class\")\n",
        "    print(self.bodyt)\n",
        "\n",
        "# __init__ is a constructor that is responsible for providing data to a classs"
      ],
      "metadata": {
        "id": "FaRUaYLF8K-0"
      },
      "execution_count": null,
      "outputs": []
    },
    {
      "cell_type": "code",
      "source": [
        "fortuner.bodyt\n",
        "# here we dont get avalue coz there is not bodyt in the class that object that it recognizes\n",
        "# for the class to recognize the var; it shiuld be like self.var_name"
      ],
      "metadata": {
        "colab": {
          "base_uri": "https://localhost:8080/",
          "height": 176
        },
        "id": "69QPzF-49mtT",
        "outputId": "5c06d7a1-c3c5-41af-b1c7-a8b43ddc9ce7"
      },
      "execution_count": null,
      "outputs": [
        {
          "output_type": "error",
          "ename": "AttributeError",
          "evalue": "'car' object has no attribute 'bodyt'",
          "traceback": [
            "\u001b[0;31m---------------------------------------------------------------------------\u001b[0m",
            "\u001b[0;31mAttributeError\u001b[0m                            Traceback (most recent call last)",
            "\u001b[0;32m<ipython-input-6-70c25e89288a>\u001b[0m in \u001b[0;36m<cell line: 0>\u001b[0;34m()\u001b[0m\n\u001b[0;32m----> 1\u001b[0;31m \u001b[0mfortuner\u001b[0m\u001b[0;34m.\u001b[0m\u001b[0mbodyt\u001b[0m\u001b[0;34m\u001b[0m\u001b[0;34m\u001b[0m\u001b[0m\n\u001b[0m\u001b[1;32m      2\u001b[0m \u001b[0;31m# here we dont get avalue coz there is not bodyt in the class that object that it recognizes\u001b[0m\u001b[0;34m\u001b[0m\u001b[0;34m\u001b[0m\u001b[0m\n\u001b[1;32m      3\u001b[0m \u001b[0;31m# for the class to recognize the var; it shiuld be like self.var_name\u001b[0m\u001b[0;34m\u001b[0m\u001b[0;34m\u001b[0m\u001b[0m\n",
            "\u001b[0;31mAttributeError\u001b[0m: 'car' object has no attribute 'bodyt'"
          ]
        }
      ]
    },
    {
      "cell_type": "code",
      "source": [
        "fortuner.bodyt_1"
      ],
      "metadata": {
        "colab": {
          "base_uri": "https://localhost:8080/",
          "height": 35
        },
        "id": "zSWRLtLb9qPW",
        "outputId": "62d7783f-c50d-4170-a279-732699d045ff"
      },
      "execution_count": null,
      "outputs": [
        {
          "output_type": "execute_result",
          "data": {
            "text/plain": [
              "'suv'"
            ],
            "application/vnd.google.colaboratory.intrinsic+json": {
              "type": "string"
            }
          },
          "metadata": {},
          "execution_count": 7
        }
      ]
    },
    {
      "cell_type": "code",
      "source": [
        "class car1:\n",
        "  def __init__(self, bodyt, engin, fulet):\n",
        "    self.a = bodyt\n",
        "    self.b = engin\n",
        "    self.c = fulet  # this self.var_nm is actully a calss variable\n",
        "    # their value is accesed is we tryto get the value of the variables or any object\n",
        "\n",
        "  def test(self):\n",
        "    print(\"this is my 1st method in my car class\")\n",
        "    print(self.bodyt)\n",
        "\n",
        "# __init__ is a constructor that is responsible for providing data to a classs"
      ],
      "metadata": {
        "id": "gZDGF5hH-GlQ"
      },
      "execution_count": null,
      "outputs": []
    },
    {
      "cell_type": "code",
      "source": [
        "alto = car1(\"maruti\",\"suzuki\",\"petrol\")\n",
        "\n",
        "alto.a"
      ],
      "metadata": {
        "colab": {
          "base_uri": "https://localhost:8080/",
          "height": 35
        },
        "id": "tmTbW-8B-K2t",
        "outputId": "c42d5f08-a20e-43fb-d89c-f7025e1fa8cd"
      },
      "execution_count": null,
      "outputs": [
        {
          "output_type": "execute_result",
          "data": {
            "text/plain": [
              "'maruti'"
            ],
            "application/vnd.google.colaboratory.intrinsic+json": {
              "type": "string"
            }
          },
          "metadata": {},
          "execution_count": 12
        }
      ]
    },
    {
      "cell_type": "code",
      "source": [
        "alto.bodyt\n",
        "# car1 class only recognizes a,b,c var from clSS"
      ],
      "metadata": {
        "colab": {
          "base_uri": "https://localhost:8080/",
          "height": 159
        },
        "id": "eLRf_3a0-gSy",
        "outputId": "e942048c-c414-4ddf-b075-9bc9fded3ec4"
      },
      "execution_count": null,
      "outputs": [
        {
          "output_type": "error",
          "ename": "AttributeError",
          "evalue": "'car1' object has no attribute 'bodyt'",
          "traceback": [
            "\u001b[0;31m---------------------------------------------------------------------------\u001b[0m",
            "\u001b[0;31mAttributeError\u001b[0m                            Traceback (most recent call last)",
            "\u001b[0;32m<ipython-input-14-ee89181fa8a5>\u001b[0m in \u001b[0;36m<cell line: 0>\u001b[0;34m()\u001b[0m\n\u001b[0;32m----> 1\u001b[0;31m \u001b[0malto\u001b[0m\u001b[0;34m.\u001b[0m\u001b[0mbodyt\u001b[0m\u001b[0;34m\u001b[0m\u001b[0;34m\u001b[0m\u001b[0m\n\u001b[0m\u001b[1;32m      2\u001b[0m \u001b[0;31m# car1 class only recognizes a,b,c var from clSS\u001b[0m\u001b[0;34m\u001b[0m\u001b[0;34m\u001b[0m\u001b[0m\n",
            "\u001b[0;31mAttributeError\u001b[0m: 'car1' object has no attribute 'bodyt'"
          ]
        }
      ]
    },
    {
      "cell_type": "code",
      "source": [
        "# defining method when creatign a class\n",
        "# inbult = > __init__\n",
        "#"
      ],
      "metadata": {
        "id": "i_FmCQvR-iXr"
      },
      "execution_count": null,
      "outputs": []
    },
    {
      "cell_type": "code",
      "source": [
        "class car2:\n",
        "  def test(self):\n",
        "    print(\"this is my 1st method in my car class\")\n",
        "\n",
        "# __init is only required if we need to paas data to the class\n",
        "# if we don;t need to pass any data to the class : we dont need __init__ method\n",
        "# so if when we create an object if we dont need to initialize any data/variable : we dont need __init__\n"
      ],
      "metadata": {
        "id": "Xlny6RbT_5K7"
      },
      "execution_count": null,
      "outputs": []
    },
    {
      "cell_type": "code",
      "source": [
        "x = car2()  # creating an object for class car2"
      ],
      "metadata": {
        "id": "W_3RJrVy_9BP"
      },
      "execution_count": null,
      "outputs": []
    },
    {
      "cell_type": "code",
      "source": [
        "x.test() # calling function from class"
      ],
      "metadata": {
        "colab": {
          "base_uri": "https://localhost:8080/"
        },
        "id": "dN23FnSbAhuH",
        "outputId": "ce1d65cc-f653-45ff-e4f9-46ed833aa82b"
      },
      "execution_count": null,
      "outputs": [
        {
          "output_type": "stream",
          "name": "stdout",
          "text": [
            "this is my 1st method in my car class\n"
          ]
        }
      ]
    },
    {
      "cell_type": "code",
      "source": [
        "class car3:\n",
        "  def test(self,b,c):\n",
        "    print(c+b)\n",
        "    print(\"this is my 1st method in my car class\")\n",
        "\n",
        "# __init is only required if we need to paas data to the class\n",
        "# if we don;t need to pass any data to the class : we dont need __init__ method\n",
        "# so if when we create an object if we dont need to initialize any data/variable : we dont need __init__"
      ],
      "metadata": {
        "id": "ryQbdusyAlIy"
      },
      "execution_count": null,
      "outputs": []
    },
    {
      "cell_type": "code",
      "source": [
        "y = car3()"
      ],
      "metadata": {
        "id": "x89Fy1djBCLM"
      },
      "execution_count": null,
      "outputs": []
    },
    {
      "cell_type": "code",
      "source": [
        "y.test(5,7)"
      ],
      "metadata": {
        "colab": {
          "base_uri": "https://localhost:8080/"
        },
        "id": "sczA5CpwBFiB",
        "outputId": "15b54356-da5f-4664-b465-db78f78d45af"
      },
      "execution_count": null,
      "outputs": [
        {
          "output_type": "stream",
          "name": "stdout",
          "text": [
            "12\n",
            "this is my 1st method in my car class\n"
          ]
        }
      ]
    },
    {
      "cell_type": "code",
      "source": [
        "#########"
      ],
      "metadata": {
        "id": "AJ_t7J6NBRZF"
      },
      "execution_count": null,
      "outputs": []
    },
    {
      "cell_type": "code",
      "source": [
        "print(type(y))"
      ],
      "metadata": {
        "colab": {
          "base_uri": "https://localhost:8080/"
        },
        "id": "I4axqcfHCEZW",
        "outputId": "ce84656b-5630-4b0f-e169-46ee0d1242ca"
      },
      "execution_count": null,
      "outputs": [
        {
          "output_type": "stream",
          "name": "stdout",
          "text": [
            "<class '__main__.car3'>\n"
          ]
        }
      ]
    },
    {
      "cell_type": "code",
      "source": [
        "class list_parser:\n",
        "  def test1(self,l):\n",
        "    if type(l) == list:\n",
        "      for i in l:\n",
        "        print(i)\n",
        "\n",
        "  def reverse_l(self, z):\n",
        "    if type(z) == list:\n",
        "      return z[::-1]\n",
        "\n"
      ],
      "metadata": {
        "id": "enSKaZR5CG6C"
      },
      "execution_count": null,
      "outputs": []
    },
    {
      "cell_type": "code",
      "source": [
        "c = list_parser()   # can access all the funtion innthe class\n",
        "\n",
        "c.test1([4,5,6,32,7,2])"
      ],
      "metadata": {
        "colab": {
          "base_uri": "https://localhost:8080/"
        },
        "id": "OWCSCg7TCk91",
        "outputId": "e119a60f-72e9-46c5-d121-07c4201cd215"
      },
      "execution_count": null,
      "outputs": [
        {
          "output_type": "stream",
          "name": "stdout",
          "text": [
            "4\n",
            "5\n",
            "6\n",
            "32\n",
            "7\n",
            "2\n"
          ]
        }
      ]
    },
    {
      "cell_type": "code",
      "source": [
        "c.reverse_l([1,4,6,8,9,9,5,3,23])"
      ],
      "metadata": {
        "colab": {
          "base_uri": "https://localhost:8080/"
        },
        "id": "q4J1Jzw7CqyF",
        "outputId": "20b1021e-2fd7-4272-aa6e-fd3026cd9763"
      },
      "execution_count": null,
      "outputs": [
        {
          "output_type": "execute_result",
          "data": {
            "text/plain": [
              "[23, 3, 5, 9, 9, 8, 6, 4, 1]"
            ]
          },
          "metadata": {},
          "execution_count": 42
        }
      ]
    },
    {
      "cell_type": "code",
      "source": [
        "# same value to all the methods\n",
        "# we will use __init__\n",
        "\n",
        "class list_parser01:\n",
        "  def __init__(self,l):\n",
        "    self.l = l\n",
        "\n",
        "  def test1(self):\n",
        "    if type(self.l) == list:\n",
        "      for i in self.l:\n",
        "        print(i)\n",
        "\n",
        "  def reverse_l(self):\n",
        "    if type(self.l) == list:\n",
        "      return self.l[::-1]\n"
      ],
      "metadata": {
        "id": "1QkS9Rj9DGag"
      },
      "execution_count": null,
      "outputs": []
    },
    {
      "cell_type": "code",
      "source": [
        "l =[4,3,2,1,7,6,5,9]\n",
        "\n",
        "k = list_parser01(l)\n",
        "k.test1()"
      ],
      "metadata": {
        "colab": {
          "base_uri": "https://localhost:8080/"
        },
        "id": "wHG6eA4eDOe8",
        "outputId": "7846725d-671c-4f9a-c49d-81429b2d3a45"
      },
      "execution_count": null,
      "outputs": [
        {
          "output_type": "stream",
          "name": "stdout",
          "text": [
            "4\n",
            "3\n",
            "2\n",
            "1\n",
            "7\n",
            "6\n",
            "5\n",
            "9\n"
          ]
        }
      ]
    },
    {
      "cell_type": "code",
      "source": [
        "k.reverse_l()"
      ],
      "metadata": {
        "colab": {
          "base_uri": "https://localhost:8080/"
        },
        "id": "4_u14ExDDlnv",
        "outputId": "9f18c389-321e-4785-953c-58e9280c2469"
      },
      "execution_count": null,
      "outputs": [
        {
          "output_type": "execute_result",
          "data": {
            "text/plain": [
              "[9, 5, 6, 7, 1, 2, 3, 4]"
            ]
          },
          "metadata": {},
          "execution_count": 54
        }
      ]
    },
    {
      "cell_type": "code",
      "source": [
        "class dicttionary:\n",
        "  def __init__(self,di):\n",
        "    self.di = di\n",
        "\n",
        "  #1\n",
        "  def kei(self):\n",
        "    for i in self.di.keys():\n",
        "      print(i)\n",
        "\n",
        "  # 2\n",
        "  def val(self):\n",
        "    for i in self.di.values():\n",
        "      print(i)\n",
        "\n",
        "  # 3\n",
        "  def exc(self):\n",
        "      if type(self.di) != dict:\n",
        "        raise Exception(self,di,\"NOT A DICTIONARY\")\n",
        "      return 1\n",
        "\n",
        "\n",
        "  # 5\n",
        "  def new_pair(self):\n",
        "    k = int(input())\n",
        "    vl = input()\n",
        "    self.di[k] = vl\n",
        "    print(self.di)\n",
        "\n",
        "\n",
        "    # 5 again better\n",
        "\n",
        "  def userin(self):\n",
        "    self.di = eval(input())\n",
        "    print(self.di,type(self.di))\n",
        "    print(self.di.keys())\n",
        "    print(self.di.values())\n",
        "\n",
        "\n"
      ],
      "metadata": {
        "id": "ZadS6xVAE6y7"
      },
      "execution_count": null,
      "outputs": []
    },
    {
      "cell_type": "code",
      "source": [
        "di = {1:\"nikita\",   2:\"emir\",3: \"kite\"}\n",
        "\n",
        "#di = \"this is npt a dict\""
      ],
      "metadata": {
        "id": "vX3QAMLWIQD1"
      },
      "execution_count": null,
      "outputs": []
    },
    {
      "cell_type": "code",
      "source": [
        "ob.userin()"
      ],
      "metadata": {
        "colab": {
          "base_uri": "https://localhost:8080/"
        },
        "id": "pWVKbBTFOR8P",
        "outputId": "4ae33d56-3083-4631-a03c-60ae6a7dd9c8"
      },
      "execution_count": null,
      "outputs": [
        {
          "output_type": "stream",
          "name": "stdout",
          "text": [
            "{66:\"yrgtfw\"}\n",
            "{66: 'yrgtfw'} <class 'dict'>\n",
            "dict_keys([66])\n",
            "dict_values(['yrgtfw'])\n"
          ]
        }
      ]
    },
    {
      "cell_type": "code",
      "source": [
        "ob = dicttionary(di)  # creating object for the class\n",
        "\n",
        "ob.new_pair()"
      ],
      "metadata": {
        "colab": {
          "base_uri": "https://localhost:8080/"
        },
        "id": "PLINqLSrIcWU",
        "outputId": "1be5cabe-43e0-46d3-d7c9-d8499bccb07f"
      },
      "execution_count": null,
      "outputs": [
        {
          "output_type": "stream",
          "name": "stdout",
          "text": [
            "8\n",
            "dfgh\n",
            "{1: 'nikita', 2: 'emir', 3: 'kite', 8: 'dfgh'}\n"
          ]
        }
      ]
    },
    {
      "cell_type": "code",
      "source": [
        "\n",
        "ob.val()"
      ],
      "metadata": {
        "colab": {
          "base_uri": "https://localhost:8080/"
        },
        "id": "ySmEAujSKoto",
        "outputId": "8901888d-8084-4869-cfa8-ed04fd0ffe51"
      },
      "execution_count": null,
      "outputs": [
        {
          "output_type": "stream",
          "name": "stdout",
          "text": [
            "yrgtfw\n"
          ]
        }
      ]
    },
    {
      "cell_type": "code",
      "source": [
        "ob.kei()"
      ],
      "metadata": {
        "colab": {
          "base_uri": "https://localhost:8080/"
        },
        "id": "FDS8b6-2KowV",
        "outputId": "f0edf56d-c47a-4a35-edd3-a6a0725b894a"
      },
      "execution_count": null,
      "outputs": [
        {
          "output_type": "stream",
          "name": "stdout",
          "text": [
            "66\n"
          ]
        }
      ]
    },
    {
      "cell_type": "code",
      "source": [
        "ob.exc()"
      ],
      "metadata": {
        "colab": {
          "base_uri": "https://localhost:8080/"
        },
        "id": "beeXLX-xKoy7",
        "outputId": "47d319d7-731c-474f-b5a6-2d7481feb3e1"
      },
      "execution_count": null,
      "outputs": [
        {
          "output_type": "execute_result",
          "data": {
            "text/plain": [
              "1"
            ]
          },
          "metadata": {},
          "execution_count": 8
        }
      ]
    },
    {
      "cell_type": "code",
      "source": [
        "m = \"nikita\"\n",
        "obb = dicttionary(m)\n",
        "obb.exc()"
      ],
      "metadata": {
        "colab": {
          "base_uri": "https://localhost:8080/",
          "height": 297
        },
        "id": "bng6aWiCIjSa",
        "outputId": "84a0730d-7cfc-4ade-b22c-4f4d3c85b62d"
      },
      "execution_count": null,
      "outputs": [
        {
          "output_type": "error",
          "ename": "Exception",
          "evalue": "(<__main__.dicttionary object at 0x780679d9efd0>, {1: 'nikita', 2: 'emir', 3: 'kite', 8: 'dfgh'}, 'NOT A DICTIONARY')",
          "traceback": [
            "\u001b[0;31m---------------------------------------------------------------------------\u001b[0m",
            "\u001b[0;31mException\u001b[0m                                 Traceback (most recent call last)",
            "\u001b[0;32m<ipython-input-9-e26e187ead4d>\u001b[0m in \u001b[0;36m<cell line: 0>\u001b[0;34m()\u001b[0m\n\u001b[1;32m      1\u001b[0m \u001b[0mm\u001b[0m \u001b[0;34m=\u001b[0m \u001b[0;34m\"nikita\"\u001b[0m\u001b[0;34m\u001b[0m\u001b[0;34m\u001b[0m\u001b[0m\n\u001b[1;32m      2\u001b[0m \u001b[0mobb\u001b[0m \u001b[0;34m=\u001b[0m \u001b[0mdicttionary\u001b[0m\u001b[0;34m(\u001b[0m\u001b[0mm\u001b[0m\u001b[0;34m)\u001b[0m\u001b[0;34m\u001b[0m\u001b[0;34m\u001b[0m\u001b[0m\n\u001b[0;32m----> 3\u001b[0;31m \u001b[0mobb\u001b[0m\u001b[0;34m.\u001b[0m\u001b[0mexc\u001b[0m\u001b[0;34m(\u001b[0m\u001b[0;34m)\u001b[0m\u001b[0;34m\u001b[0m\u001b[0;34m\u001b[0m\u001b[0m\n\u001b[0m",
            "\u001b[0;32m<ipython-input-1-ccae86d194f0>\u001b[0m in \u001b[0;36mexc\u001b[0;34m(self)\u001b[0m\n\u001b[1;32m     16\u001b[0m   \u001b[0;32mdef\u001b[0m \u001b[0mexc\u001b[0m\u001b[0;34m(\u001b[0m\u001b[0mself\u001b[0m\u001b[0;34m)\u001b[0m\u001b[0;34m:\u001b[0m\u001b[0;34m\u001b[0m\u001b[0;34m\u001b[0m\u001b[0m\n\u001b[1;32m     17\u001b[0m       \u001b[0;32mif\u001b[0m \u001b[0mtype\u001b[0m\u001b[0;34m(\u001b[0m\u001b[0mself\u001b[0m\u001b[0;34m.\u001b[0m\u001b[0mdi\u001b[0m\u001b[0;34m)\u001b[0m \u001b[0;34m!=\u001b[0m \u001b[0mdict\u001b[0m\u001b[0;34m:\u001b[0m\u001b[0;34m\u001b[0m\u001b[0;34m\u001b[0m\u001b[0m\n\u001b[0;32m---> 18\u001b[0;31m         \u001b[0;32mraise\u001b[0m \u001b[0mException\u001b[0m\u001b[0;34m(\u001b[0m\u001b[0mself\u001b[0m\u001b[0;34m,\u001b[0m\u001b[0mdi\u001b[0m\u001b[0;34m,\u001b[0m\u001b[0;34m\"NOT A DICTIONARY\"\u001b[0m\u001b[0;34m)\u001b[0m\u001b[0;34m\u001b[0m\u001b[0;34m\u001b[0m\u001b[0m\n\u001b[0m\u001b[1;32m     19\u001b[0m       \u001b[0;32mreturn\u001b[0m \u001b[0;36m1\u001b[0m\u001b[0;34m\u001b[0m\u001b[0;34m\u001b[0m\u001b[0m\n\u001b[1;32m     20\u001b[0m \u001b[0;34m\u001b[0m\u001b[0m\n",
            "\u001b[0;31mException\u001b[0m: (<__main__.dicttionary object at 0x780679d9efd0>, {1: 'nikita', 2: 'emir', 3: 'kite', 8: 'dfgh'}, 'NOT A DICTIONARY')"
          ]
        }
      ]
    },
    {
      "cell_type": "code",
      "source": [
        "ob.exc()"
      ],
      "metadata": {
        "colab": {
          "base_uri": "https://localhost:8080/"
        },
        "id": "jua7Xlg0Iudb",
        "outputId": "a235345a-4a67-44bd-8885-14917d00a39e"
      },
      "execution_count": null,
      "outputs": [
        {
          "output_type": "stream",
          "name": "stdout",
          "text": [
            "is a dict\n"
          ]
        }
      ]
    },
    {
      "cell_type": "code",
      "source": [
        "new_obj = dicttionary(m)\n",
        "new_obj.exc()"
      ],
      "metadata": {
        "id": "X1sndV3oJJpr"
      },
      "execution_count": null,
      "outputs": []
    },
    {
      "cell_type": "code",
      "source": [],
      "metadata": {
        "id": "bXn0_NqGJqQv"
      },
      "execution_count": null,
      "outputs": []
    }
  ]
}