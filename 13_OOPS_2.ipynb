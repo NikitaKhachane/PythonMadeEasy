{
  "nbformat": 4,
  "nbformat_minor": 0,
  "metadata": {
    "colab": {
      "provenance": []
    },
    "kernelspec": {
      "name": "python3",
      "display_name": "Python 3"
    },
    "language_info": {
      "name": "python"
    }
  },
  "cells": [
    {
      "cell_type": "code",
      "execution_count": null,
      "metadata": {
        "id": "tsSiOL2WVOkx"
      },
      "outputs": [],
      "source": [
        "# inheritance\n",
        "# it is when a child class inherit things from parent class"
      ]
    },
    {
      "cell_type": "code",
      "source": [
        "class xyz:\n",
        "  def __init__(self,a,b,c):\n",
        "    self.a = a\n",
        "    self.b = b\n",
        "    self.c = c\n",
        "\n",
        "  def test(self):\n",
        "    print(\"this is my my 1st method in class xyz\")\n",
        "\n",
        "  def test1(self):\n",
        "    print(\"this is my my 2st method in class xyz\")\n",
        "\n",
        "  def test2(self):\n",
        "    print(\"this is my my 13rd method in class xyz\")"
      ],
      "metadata": {
        "id": "omhnS1uBW7Tr"
      },
      "execution_count": null,
      "outputs": []
    },
    {
      "cell_type": "code",
      "source": [
        "# inheritance\n",
        "\n",
        "# may b i m creating another class where this test, test1, test2 is required\n",
        "\n"
      ],
      "metadata": {
        "id": "1xTb9tqWXXz5"
      },
      "execution_count": null,
      "outputs": []
    },
    {
      "cell_type": "code",
      "source": [
        "  # extention of xyz class\n",
        "# how to inherit from class xyz\n",
        "\n",
        "class aaa(xyz):  # we call class xyz as a method by inhereting the property of xyz in aaa\n",
        "    pass"
      ],
      "metadata": {
        "id": "66eprUmLXvJ_"
      },
      "execution_count": null,
      "outputs": []
    },
    {
      "cell_type": "code",
      "source": [
        "# creatign object for class xyz\n",
        "\n",
        "p = xyz(1,2,3)  # p is a variable of class xyz\n"
      ],
      "metadata": {
        "id": "tg3hRvMoY6ZU"
      },
      "execution_count": null,
      "outputs": []
    },
    {
      "cell_type": "code",
      "source": [
        "p.a"
      ],
      "metadata": {
        "colab": {
          "base_uri": "https://localhost:8080/"
        },
        "id": "RJtfU7swZKW8",
        "outputId": "67594b58-b9f1-4067-b86e-ca73a3e6502f"
      },
      "execution_count": null,
      "outputs": [
        {
          "output_type": "execute_result",
          "data": {
            "text/plain": [
              "1"
            ]
          },
          "metadata": {},
          "execution_count": 6
        }
      ]
    },
    {
      "cell_type": "code",
      "source": [
        "p.test()"
      ],
      "metadata": {
        "colab": {
          "base_uri": "https://localhost:8080/"
        },
        "id": "ohA7FZPFZMit",
        "outputId": "d61c70d7-4b4c-489b-dd0a-32a839a0a05b"
      },
      "execution_count": null,
      "outputs": [
        {
          "output_type": "stream",
          "name": "stdout",
          "text": [
            "this is my my 1st method in class xyz\n"
          ]
        }
      ]
    },
    {
      "cell_type": "code",
      "source": [
        "q = aaa()\n",
        "\n",
        "# we r getting an error coz class aaa still need 3 variables but bcoz it is a child class for the parent that needs 3 variables"
      ],
      "metadata": {
        "colab": {
          "base_uri": "https://localhost:8080/",
          "height": 193
        },
        "id": "RPQCLvGjZO2z",
        "outputId": "e68465ce-e900-4573-d74a-0efff7376d48"
      },
      "execution_count": null,
      "outputs": [
        {
          "output_type": "error",
          "ename": "TypeError",
          "evalue": "xyz.__init__() missing 3 required positional arguments: 'a', 'b', and 'c'",
          "traceback": [
            "\u001b[0;31m---------------------------------------------------------------------------\u001b[0m",
            "\u001b[0;31mTypeError\u001b[0m                                 Traceback (most recent call last)",
            "\u001b[0;32m<ipython-input-11-10f200c2cc19>\u001b[0m in \u001b[0;36m<cell line: 0>\u001b[0;34m()\u001b[0m\n\u001b[0;32m----> 1\u001b[0;31m \u001b[0mq\u001b[0m \u001b[0;34m=\u001b[0m \u001b[0maaa\u001b[0m\u001b[0;34m(\u001b[0m\u001b[0;34m)\u001b[0m\u001b[0;34m\u001b[0m\u001b[0;34m\u001b[0m\u001b[0m\n\u001b[0m\u001b[1;32m      2\u001b[0m \u001b[0;34m\u001b[0m\u001b[0m\n\u001b[1;32m      3\u001b[0m \u001b[0;31m# we r getting an error coz class aaa still need 3 variables but bcoz it is a child class for the parent that needs 3 variables\u001b[0m\u001b[0;34m\u001b[0m\u001b[0;34m\u001b[0m\u001b[0m\n",
            "\u001b[0;31mTypeError\u001b[0m: xyz.__init__() missing 3 required positional arguments: 'a', 'b', and 'c'"
          ]
        }
      ]
    },
    {
      "cell_type": "code",
      "source": [
        "q = aaa(4,3,2)"
      ],
      "metadata": {
        "id": "QVnaZIjWZSqn"
      },
      "execution_count": null,
      "outputs": []
    },
    {
      "cell_type": "code",
      "source": [
        "# now that q is an object for class \"aaa\" we can still access all the funciton and variable frm class xyz\n",
        "q.test()"
      ],
      "metadata": {
        "colab": {
          "base_uri": "https://localhost:8080/"
        },
        "id": "BRWCwF9OZqKX",
        "outputId": "88218add-919f-47b4-db53-4fe0e48bf7fd"
      },
      "execution_count": null,
      "outputs": [
        {
          "output_type": "stream",
          "name": "stdout",
          "text": [
            "this is my my 1st method in class xyz\n"
          ]
        }
      ]
    },
    {
      "cell_type": "code",
      "source": [
        "#########################################################################################################"
      ],
      "metadata": {
        "id": "Ag8y6Z7ba25f"
      },
      "execution_count": null,
      "outputs": []
    },
    {
      "cell_type": "code",
      "source": [
        "class ParentClass:\n",
        "    def __init__(self, parent_attribute):\n",
        "        self.parent_attribute = parent_attribute\n",
        "\n",
        "    def parent_method(self):\n",
        "        return f\"Parent attribute: {self.parent_attribute}\"\n",
        "\n",
        "class ChildClass(ParentClass):\n",
        "    def __init__(self, parent_attribute, child_attribute):\n",
        "        super().__init__(parent_attribute)\n",
        "        self.child_attribute = child_attribute\n",
        "\n",
        "    def child_method(self):\n",
        "        return f\"Parent attribute: {self.parent_attribute}, Child attribute: {self.child_attribute}\"\n",
        "\n",
        "# Usage\n",
        "parent_object = ParentClass(\"Parent Value\")\n",
        "print(parent_object.parent_method())\n",
        "\n",
        "child_object = ChildClass(\"Parent Value\", \"Child Value\")\n",
        "print(child_object.child_method())\n",
        "print(child_object.parent_method()) # Inherited from parent"
      ],
      "metadata": {
        "colab": {
          "base_uri": "https://localhost:8080/"
        },
        "id": "ieLv7IkiZz0v",
        "outputId": "c048ca85-4e2f-4775-cdf5-b4e052711977"
      },
      "execution_count": null,
      "outputs": [
        {
          "output_type": "stream",
          "name": "stdout",
          "text": [
            "Parent attribute: Parent Value\n",
            "Parent attribute: Parent Value, Child attribute: Child Value\n",
            "Parent attribute: Parent Value\n"
          ]
        }
      ]
    },
    {
      "cell_type": "code",
      "source": [
        "###############################################################################################################"
      ],
      "metadata": {
        "id": "RAkrwm1xa6oe"
      },
      "execution_count": null,
      "outputs": []
    },
    {
      "cell_type": "code",
      "source": [
        "class bbb(xyz):\n",
        "  def test(self):   # redefining in child class\n",
        "    print(\"this is a test method avilable in bbb\")"
      ],
      "metadata": {
        "id": "jpI_AZHVa8gW"
      },
      "execution_count": null,
      "outputs": []
    },
    {
      "cell_type": "code",
      "source": [
        "g = bbb(4,5,6) #object of child class\n",
        "g.test()"
      ],
      "metadata": {
        "colab": {
          "base_uri": "https://localhost:8080/"
        },
        "id": "7kyhRznfee3j",
        "outputId": "47375f16-44b8-449d-d02d-aba0725d7430"
      },
      "execution_count": null,
      "outputs": [
        {
          "output_type": "stream",
          "name": "stdout",
          "text": [
            "this is a test method avilable in bbb\n"
          ]
        }
      ]
    },
    {
      "cell_type": "code",
      "source": [
        "class xyz():\n",
        "  def __init__(self,a,b,c):\n",
        "    self.a = a\n",
        "    self.b = b\n",
        "    self.c = c                       # these are 2 independent class  ccc and xyz\n",
        "\n",
        "  def test(self):\n",
        "    print(\"mehtod in xyz class\")\n",
        "\n",
        "class ccc:\n",
        "  def __init__(self,p,q,r):\n",
        "    self.p = p\n",
        "    self.q = q\n",
        "    self.r = r\n",
        "\n",
        "  def test1(self):\n",
        "    print(\"from class ccc\")\n",
        "\n",
        "# child class from 2 parent class\n",
        "\n",
        "class child(ccc,xyz):\n",
        "  pass"
      ],
      "metadata": {
        "id": "gf2Tj5gfeicV"
      },
      "execution_count": null,
      "outputs": []
    },
    {
      "cell_type": "code",
      "source": [
        "c = child()  #child class object\n",
        "\n",
        "# the child class from 2 parent class\n",
        "# in such cases the child class is able to inherit all the funciton from both the classes\n",
        "# but the child class is onl able to inherite variable frm first parent class"
      ],
      "metadata": {
        "colab": {
          "base_uri": "https://localhost:8080/",
          "height": 211
        },
        "id": "NrANn8n4flMj",
        "outputId": "a7eeef36-6c1f-4cc9-d6ed-4223ecf09e25"
      },
      "execution_count": null,
      "outputs": [
        {
          "output_type": "error",
          "ename": "TypeError",
          "evalue": "ccc.__init__() missing 3 required positional arguments: 'p', 'q', and 'r'",
          "traceback": [
            "\u001b[0;31m---------------------------------------------------------------------------\u001b[0m",
            "\u001b[0;31mTypeError\u001b[0m                                 Traceback (most recent call last)",
            "\u001b[0;32m<ipython-input-20-0d5e56db86c4>\u001b[0m in \u001b[0;36m<cell line: 0>\u001b[0;34m()\u001b[0m\n\u001b[0;32m----> 1\u001b[0;31m \u001b[0mc\u001b[0m \u001b[0;34m=\u001b[0m \u001b[0mchild\u001b[0m\u001b[0;34m(\u001b[0m\u001b[0;34m)\u001b[0m  \u001b[0;31m#child class object\u001b[0m\u001b[0;34m\u001b[0m\u001b[0;34m\u001b[0m\u001b[0m\n\u001b[0m\u001b[1;32m      2\u001b[0m \u001b[0;34m\u001b[0m\u001b[0m\n\u001b[1;32m      3\u001b[0m \u001b[0;31m# the child class from 2 parent class\u001b[0m\u001b[0;34m\u001b[0m\u001b[0;34m\u001b[0m\u001b[0m\n\u001b[1;32m      4\u001b[0m \u001b[0;31m# in such cases the child class is able to inherit all the funciton from both the classes\u001b[0m\u001b[0;34m\u001b[0m\u001b[0;34m\u001b[0m\u001b[0m\n\u001b[1;32m      5\u001b[0m \u001b[0;31m# but the child class is onl able to inherite variable frm first parent class\u001b[0m\u001b[0;34m\u001b[0m\u001b[0;34m\u001b[0m\u001b[0m\n",
            "\u001b[0;31mTypeError\u001b[0m: ccc.__init__() missing 3 required positional arguments: 'p', 'q', and 'r'"
          ]
        }
      ]
    },
    {
      "cell_type": "code",
      "source": [
        "c = child(1,2,3)"
      ],
      "metadata": {
        "id": "dmY9Cn84fpeH"
      },
      "execution_count": null,
      "outputs": []
    },
    {
      "cell_type": "code",
      "source": [
        "c.a"
      ],
      "metadata": {
        "colab": {
          "base_uri": "https://localhost:8080/",
          "height": 141
        },
        "id": "eMVjyavqfsUV",
        "outputId": "30c38e65-5927-4de5-a744-9bd324a5990d"
      },
      "execution_count": null,
      "outputs": [
        {
          "output_type": "error",
          "ename": "AttributeError",
          "evalue": "'child' object has no attribute 'a'",
          "traceback": [
            "\u001b[0;31m---------------------------------------------------------------------------\u001b[0m",
            "\u001b[0;31mAttributeError\u001b[0m                            Traceback (most recent call last)",
            "\u001b[0;32m<ipython-input-22-4810b6c5c2c6>\u001b[0m in \u001b[0;36m<cell line: 0>\u001b[0;34m()\u001b[0m\n\u001b[0;32m----> 1\u001b[0;31m \u001b[0mc\u001b[0m\u001b[0;34m.\u001b[0m\u001b[0ma\u001b[0m\u001b[0;34m\u001b[0m\u001b[0;34m\u001b[0m\u001b[0m\n\u001b[0m",
            "\u001b[0;31mAttributeError\u001b[0m: 'child' object has no attribute 'a'"
          ]
        }
      ]
    },
    {
      "cell_type": "code",
      "source": [
        "c.b"
      ],
      "metadata": {
        "colab": {
          "base_uri": "https://localhost:8080/",
          "height": 141
        },
        "id": "RKlCv1lbfz9d",
        "outputId": "5adfe822-1e48-4484-eedd-b6f53c823869"
      },
      "execution_count": null,
      "outputs": [
        {
          "output_type": "error",
          "ename": "AttributeError",
          "evalue": "'child' object has no attribute 'b'",
          "traceback": [
            "\u001b[0;31m---------------------------------------------------------------------------\u001b[0m",
            "\u001b[0;31mAttributeError\u001b[0m                            Traceback (most recent call last)",
            "\u001b[0;32m<ipython-input-23-fb7149e4a3ea>\u001b[0m in \u001b[0;36m<cell line: 0>\u001b[0;34m()\u001b[0m\n\u001b[0;32m----> 1\u001b[0;31m \u001b[0mc\u001b[0m\u001b[0;34m.\u001b[0m\u001b[0mb\u001b[0m\u001b[0;34m\u001b[0m\u001b[0;34m\u001b[0m\u001b[0m\n\u001b[0m",
            "\u001b[0;31mAttributeError\u001b[0m: 'child' object has no attribute 'b'"
          ]
        }
      ]
    },
    {
      "cell_type": "code",
      "source": [
        "c.c"
      ],
      "metadata": {
        "colab": {
          "base_uri": "https://localhost:8080/",
          "height": 141
        },
        "id": "Z_7cIblef2ul",
        "outputId": "4083db11-c837-49f3-f8e2-539631c2a472"
      },
      "execution_count": null,
      "outputs": [
        {
          "output_type": "error",
          "ename": "AttributeError",
          "evalue": "'child' object has no attribute 'c'",
          "traceback": [
            "\u001b[0;31m---------------------------------------------------------------------------\u001b[0m",
            "\u001b[0;31mAttributeError\u001b[0m                            Traceback (most recent call last)",
            "\u001b[0;32m<ipython-input-24-2c4067a87a4b>\u001b[0m in \u001b[0;36m<cell line: 0>\u001b[0;34m()\u001b[0m\n\u001b[0;32m----> 1\u001b[0;31m \u001b[0mc\u001b[0m\u001b[0;34m.\u001b[0m\u001b[0mc\u001b[0m\u001b[0;34m\u001b[0m\u001b[0;34m\u001b[0m\u001b[0m\n\u001b[0m",
            "\u001b[0;31mAttributeError\u001b[0m: 'child' object has no attribute 'c'"
          ]
        }
      ]
    },
    {
      "cell_type": "code",
      "source": [
        "c.p  # we do not have var from ccc class"
      ],
      "metadata": {
        "colab": {
          "base_uri": "https://localhost:8080/"
        },
        "id": "eULYU8Xuf3ec",
        "outputId": "0e415fcb-582b-45a6-92e6-9a149fbac294"
      },
      "execution_count": null,
      "outputs": [
        {
          "output_type": "execute_result",
          "data": {
            "text/plain": [
              "1"
            ]
          },
          "metadata": {},
          "execution_count": 25
        }
      ]
    },
    {
      "cell_type": "code",
      "source": [
        "c.r"
      ],
      "metadata": {
        "colab": {
          "base_uri": "https://localhost:8080/"
        },
        "id": "mPmJiQl-go6-",
        "outputId": "f900b705-17b4-406c-82e6-8da7fd1e00aa"
      },
      "execution_count": null,
      "outputs": [
        {
          "output_type": "execute_result",
          "data": {
            "text/plain": [
              "3"
            ]
          },
          "metadata": {},
          "execution_count": 26
        }
      ]
    },
    {
      "cell_type": "code",
      "source": [
        "c.test()"
      ],
      "metadata": {
        "colab": {
          "base_uri": "https://localhost:8080/"
        },
        "id": "qwml0ZGtf4il",
        "outputId": "52b34ea5-7fae-4aed-e3f9-17507843c8c9"
      },
      "execution_count": null,
      "outputs": [
        {
          "output_type": "stream",
          "name": "stdout",
          "text": [
            "mehtod in xyz class\n"
          ]
        }
      ]
    },
    {
      "cell_type": "code",
      "source": [
        "c.test1()"
      ],
      "metadata": {
        "colab": {
          "base_uri": "https://localhost:8080/"
        },
        "id": "ojX4VT51gO8o",
        "outputId": "6582e2ae-e5f7-4bcb-d044-0f6c973b42ca"
      },
      "execution_count": null,
      "outputs": [
        {
          "output_type": "stream",
          "name": "stdout",
          "text": [
            "from class ccc\n"
          ]
        }
      ]
    },
    {
      "cell_type": "code",
      "source": [
        "# i would like to inherit variable frm both the classes\n",
        "\n",
        "\n",
        "class xyz():\n",
        "  def __init__(self,a,b,c):\n",
        "    self.a = a\n",
        "    self.b = b\n",
        "    self.c = c                       # these are 2 independent class  ccc and xyz\n",
        "\n",
        "  def test(self):\n",
        "    print(\"mehtod in xyz class\")\n",
        "\n",
        "class ccc:\n",
        "  def __init__(self,p,q,r):\n",
        "    self.p = p\n",
        "    self.q = q\n",
        "    self.r = r\n",
        "\n",
        "  def test1(self):\n",
        "    print(\"from class ccc\")\n",
        "\n",
        "# child class from 2 parent class\n",
        "\n",
        "class child(ccc,xyz):\n",
        "  def __init__(self, *args):\n",
        "    xyz.__init__(self, *args)\n",
        "    ccc.__init__(self, *args)\n"
      ],
      "metadata": {
        "id": "jj8YYXiEgQH3"
      },
      "execution_count": null,
      "outputs": []
    },
    {
      "cell_type": "code",
      "source": [],
      "metadata": {
        "colab": {
          "base_uri": "https://localhost:8080/"
        },
        "id": "53DxxUdIDYTH",
        "outputId": "7f1ad7d4-3623-41cd-c96c-32833b4feed2"
      },
      "execution_count": null,
      "outputs": [
        {
          "output_type": "stream",
          "name": "stdout",
          "text": [
            "I am the child class\n",
            "20\n",
            "Hello World!\n"
          ]
        }
      ]
    },
    {
      "cell_type": "code",
      "source": [
        "n = child(4,6,8)"
      ],
      "metadata": {
        "id": "wXt70UJjhevz"
      },
      "execution_count": null,
      "outputs": []
    },
    {
      "cell_type": "code",
      "source": [
        "n.p"
      ],
      "metadata": {
        "colab": {
          "base_uri": "https://localhost:8080/"
        },
        "id": "dS6A6A6ljdLc",
        "outputId": "d85e1395-d5ae-42f0-947d-c995358e86e8"
      },
      "execution_count": null,
      "outputs": [
        {
          "output_type": "execute_result",
          "data": {
            "text/plain": [
              "4"
            ]
          },
          "metadata": {},
          "execution_count": 31
        }
      ]
    },
    {
      "cell_type": "code",
      "source": [
        "n.a"
      ],
      "metadata": {
        "colab": {
          "base_uri": "https://localhost:8080/"
        },
        "id": "3pmJo4yhjeNU",
        "outputId": "e97e84ad-097c-46f6-b95e-ded42f1bb1e0"
      },
      "execution_count": null,
      "outputs": [
        {
          "output_type": "execute_result",
          "data": {
            "text/plain": [
              "4"
            ]
          },
          "metadata": {},
          "execution_count": 32
        }
      ]
    },
    {
      "cell_type": "code",
      "source": [
        "# Multiple in return\n",
        "\n",
        "class xyz():\n",
        "  def __init__(self,a,b,c):\n",
        "    self.a = a\n",
        "    self.b = b\n",
        "    self.c = c                       # these are 2 independent class  ccc and xyz\n",
        "\n",
        "  def test(self):\n",
        "    print(\"mehtod in xyz class\")\n",
        "\n",
        "class xyz1(xyz):\n",
        "\n",
        "  def test1(self):\n",
        "    print(\"from class ccc\")\n",
        "\n",
        "\n",
        "class xyz2(xyz1):\n",
        "  def test2(self):\n",
        "    print('thisis a method from class 3')\n",
        "\n",
        "# here calss xyz2 is tryitn to inherit from class xyz1\n",
        "# and class xyz1 is inherit from class xyz\n",
        "# this is called multilevel inheritance"
      ],
      "metadata": {
        "id": "ueyfetmijic6"
      },
      "execution_count": null,
      "outputs": []
    },
    {
      "cell_type": "code",
      "source": [
        "# object of xyz\n",
        "\n",
        "x = xyz2()"
      ],
      "metadata": {
        "id": "jtNYP6hQjwVD",
        "colab": {
          "base_uri": "https://localhost:8080/",
          "height": 176
        },
        "outputId": "4a1808eb-3d50-473d-f2a2-8eee28a8ee73"
      },
      "execution_count": null,
      "outputs": [
        {
          "output_type": "error",
          "ename": "TypeError",
          "evalue": "xyz.__init__() missing 3 required positional arguments: 'a', 'b', and 'c'",
          "traceback": [
            "\u001b[0;31m---------------------------------------------------------------------------\u001b[0m",
            "\u001b[0;31mTypeError\u001b[0m                                 Traceback (most recent call last)",
            "\u001b[0;32m<ipython-input-35-b1512bb9149f>\u001b[0m in \u001b[0;36m<cell line: 0>\u001b[0;34m()\u001b[0m\n\u001b[1;32m      1\u001b[0m \u001b[0;31m# object of xyz\u001b[0m\u001b[0;34m\u001b[0m\u001b[0;34m\u001b[0m\u001b[0m\n\u001b[1;32m      2\u001b[0m \u001b[0;34m\u001b[0m\u001b[0m\n\u001b[0;32m----> 3\u001b[0;31m \u001b[0mx\u001b[0m \u001b[0;34m=\u001b[0m \u001b[0mxyz2\u001b[0m\u001b[0;34m(\u001b[0m\u001b[0;34m)\u001b[0m\u001b[0;34m\u001b[0m\u001b[0;34m\u001b[0m\u001b[0m\n\u001b[0m",
            "\u001b[0;31mTypeError\u001b[0m: xyz.__init__() missing 3 required positional arguments: 'a', 'b', and 'c'"
          ]
        }
      ]
    },
    {
      "cell_type": "code",
      "source": [
        "# we get above error coz xyz class require 3 positional args\n",
        "# and xyz2 is inheriting from xyz and xyz require a,b,c variables\n",
        "\n"
      ],
      "metadata": {
        "id": "LzHn27urWf4Z"
      },
      "execution_count": null,
      "outputs": []
    },
    {
      "cell_type": "code",
      "source": [
        "v = xyz2(2,3,4)"
      ],
      "metadata": {
        "id": "0P4yXzy5WzZx"
      },
      "execution_count": null,
      "outputs": []
    },
    {
      "cell_type": "code",
      "source": [
        "v.test2()"
      ],
      "metadata": {
        "colab": {
          "base_uri": "https://localhost:8080/"
        },
        "id": "IWPXu2ITW9Uj",
        "outputId": "3332db06-424c-4f2d-f53a-0a4daff5a3e2"
      },
      "execution_count": null,
      "outputs": [
        {
          "output_type": "stream",
          "name": "stdout",
          "text": [
            "thisis a method from class 3\n"
          ]
        }
      ]
    },
    {
      "cell_type": "code",
      "source": [
        "v.test()"
      ],
      "metadata": {
        "colab": {
          "base_uri": "https://localhost:8080/"
        },
        "id": "H90m_4hzW-fz",
        "outputId": "e7f513ac-1b47-49e0-ac6b-4c13a351f687"
      },
      "execution_count": null,
      "outputs": [
        {
          "output_type": "stream",
          "name": "stdout",
          "text": [
            "mehtod in xyz class\n"
          ]
        }
      ]
    },
    {
      "cell_type": "code",
      "source": [
        "# Multiple in return\n",
        "\n",
        "class xyz():\n",
        "  def __init__(self,a,b,c):\n",
        "    self.a = a\n",
        "    self.b = b\n",
        "    self.c = c                       # these are 2 independent class  ccc and xyz\n",
        "\n",
        "  def test(self):\n",
        "    print(\"mehtod in xyz class\")\n",
        "\n",
        "class xyz1(xyz):\n",
        "\n",
        "  def test1(self):\n",
        "    print(\"from class ccc\")\n",
        "\n",
        "\n",
        "class xyz2(xyz1):\n",
        "  def test2(self):\n",
        "    print('thisis a method from class 3')\n",
        "\n",
        "\n",
        "class xyz3(xyz2):\n",
        "  def test3(self):\n",
        "    print(\"Third class of third function\")\n",
        "\n",
        "# here calss xyz2 is tryitn to inherit from class xyz1\n",
        "# and class xyz1 is inherit from class xyz\n",
        "# this is called multilevel inheritance"
      ],
      "metadata": {
        "id": "oELlPm_uXCzq"
      },
      "execution_count": null,
      "outputs": []
    },
    {
      "cell_type": "code",
      "source": [
        "m = xyz3(4,5,6)\n",
        "\n",
        "m.test()"
      ],
      "metadata": {
        "colab": {
          "base_uri": "https://localhost:8080/"
        },
        "id": "Ha5B-ucKXfII",
        "outputId": "c5cd37d1-fc56-4698-c3b9-a41db8abd113"
      },
      "execution_count": null,
      "outputs": [
        {
          "output_type": "stream",
          "name": "stdout",
          "text": [
            "mehtod in xyz class\n"
          ]
        }
      ]
    },
    {
      "cell_type": "code",
      "source": [
        "m.test3()"
      ],
      "metadata": {
        "colab": {
          "base_uri": "https://localhost:8080/"
        },
        "id": "drlsUajeXj8v",
        "outputId": "cefa4ad6-b097-42fb-e84a-e84e90a0c1a5"
      },
      "execution_count": null,
      "outputs": [
        {
          "output_type": "stream",
          "name": "stdout",
          "text": [
            "Third class of third function\n"
          ]
        }
      ]
    },
    {
      "cell_type": "code",
      "source": [
        "# Q.1} create a file for reding data from respective file with a method name  read and write\n",
        "\n",
        "# Q.2} Try to inherit read and wire method from parent class to child class to perform read and write operation\n"
      ],
      "metadata": {
        "id": "lKHcAsH8XmFI"
      },
      "execution_count": null,
      "outputs": []
    },
    {
      "cell_type": "code",
      "source": [
        "ls"
      ],
      "metadata": {
        "colab": {
          "base_uri": "https://localhost:8080/"
        },
        "id": "8C1ubu-rXprE",
        "outputId": "70887c3d-ea0d-406c-931c-102eb5ad6634"
      },
      "execution_count": null,
      "outputs": [
        {
          "output_type": "stream",
          "name": "stdout",
          "text": [
            "\u001b[0m\u001b[01;34msample_data\u001b[0m/\n"
          ]
        }
      ]
    },
    {
      "cell_type": "code",
      "source": [
        "f = open(\"textfile.txt\",\"r+\")\n",
        "f.read()\n",
        "f.write(\"this is new sentese\")\n",
        "f.close()"
      ],
      "metadata": {
        "id": "mzpDRoVVYSE7"
      },
      "execution_count": null,
      "outputs": []
    },
    {
      "cell_type": "code",
      "source": [
        "class txtfile:\n",
        "  def __init__(self,file_name,path):\n",
        "    self.file_name = file_name\n",
        "    self.path = path\n",
        "    print(\"DONE\")\n",
        "\n",
        "  def open_file(self):\n",
        "    f = open(self.file_name, \"w+\")\n",
        "    f.read()\n",
        "    print(\"OPENED\")\n",
        "\n",
        "  def reading(self):\n",
        "    f = open(self.file_name, \"w+\")\n",
        "    f.read()\n",
        "##    print(\"READ\")\n",
        "\n",
        "  def writing(self):\n",
        "    f = open(self.file_name, \"w+\")\n",
        "    f.write(\"AAAAAAAAAAAAAAAAAAAAAAAAAAAAAAAAAAAAAAAAAAAAAAA\")\n",
        "    f.read()\n",
        "\n",
        "class childd(txtfile):\n",
        "  print(\"inherits everythin from above class\")\n",
        "\n",
        "# i could not do it on my own"
      ],
      "metadata": {
        "colab": {
          "base_uri": "https://localhost:8080/"
        },
        "id": "JpIvkE1WZgSB",
        "outputId": "4430129f-51a4-4eaf-bd83-9bd0154ed5e8"
      },
      "execution_count": null,
      "outputs": [
        {
          "output_type": "stream",
          "name": "stdout",
          "text": [
            "inherits everythin from above class\n"
          ]
        }
      ]
    },
    {
      "cell_type": "code",
      "source": [
        "obj1 = txtfile(\"file_3.txt\")"
      ],
      "metadata": {
        "colab": {
          "base_uri": "https://localhost:8080/",
          "height": 141
        },
        "id": "reT8gWTUaiQ5",
        "outputId": "7dd983de-886e-4458-829f-af8cfc643529"
      },
      "execution_count": null,
      "outputs": [
        {
          "output_type": "error",
          "ename": "TypeError",
          "evalue": "txtfile.__init__() missing 1 required positional argument: 'path'",
          "traceback": [
            "\u001b[0;31m---------------------------------------------------------------------------\u001b[0m",
            "\u001b[0;31mTypeError\u001b[0m                                 Traceback (most recent call last)",
            "\u001b[0;32m<ipython-input-2-bd38fb4951fb>\u001b[0m in \u001b[0;36m<cell line: 0>\u001b[0;34m()\u001b[0m\n\u001b[0;32m----> 1\u001b[0;31m \u001b[0mobj1\u001b[0m \u001b[0;34m=\u001b[0m \u001b[0mtxtfile\u001b[0m\u001b[0;34m(\u001b[0m\u001b[0;34m\"file_3.txt\"\u001b[0m\u001b[0;34m)\u001b[0m\u001b[0;34m\u001b[0m\u001b[0;34m\u001b[0m\u001b[0m\n\u001b[0m",
            "\u001b[0;31mTypeError\u001b[0m: txtfile.__init__() missing 1 required positional argument: 'path'"
          ]
        }
      ]
    },
    {
      "cell_type": "code",
      "source": [
        "path = \"/content/textfile.txt\"\n"
      ],
      "metadata": {
        "id": "viQQYI-Ubbkv"
      },
      "execution_count": null,
      "outputs": []
    },
    {
      "cell_type": "code",
      "source": [
        "# Q1 and Q2\n",
        "\n",
        "class parent:\n",
        "\n",
        "  def __init__(self,path):\n",
        "    self.path = path\n",
        "\n",
        "  def reading(self):\n",
        "    try:\n",
        "      f = open(self.path,\"r+\")\n",
        "      print(f.read())\n",
        "    except Exception as e:\n",
        "      print(e)\n",
        "    f.close()\n",
        "\n",
        "  def writing(self,writings = \"$$$$$$$$$$$$$$ I AM THE RICHES IN ALL AREAS OF MY LIFE\"):\n",
        "    # the \"a\" mode opened file will delete everything in the file and overwrite it\n",
        "    try:\n",
        "      f = open(self.path,\"a\")  # append mode\n",
        "    except Exception as e:\n",
        "      print(e)\n",
        "    f.write(writings)\n",
        "    f.close()\n",
        "\n",
        "class child(parent):\n",
        "  print(\"COde inside Child cLass\")"
      ],
      "metadata": {
        "id": "ODzM2c1IbocK",
        "colab": {
          "base_uri": "https://localhost:8080/"
        },
        "outputId": "f092bd3b-b527-49d5-983a-714a1c89541f"
      },
      "execution_count": null,
      "outputs": [
        {
          "output_type": "stream",
          "name": "stdout",
          "text": [
            "COde inside Child cLass\n"
          ]
        }
      ]
    },
    {
      "cell_type": "code",
      "source": [
        "# file apth\n",
        "path = \"/content/textfile.txt\"\n",
        "\n",
        "obj2 = child(path)  # creating an object\n"
      ],
      "metadata": {
        "id": "3gQM71O6buOC"
      },
      "execution_count": null,
      "outputs": []
    },
    {
      "cell_type": "code",
      "source": [
        "obj2.writing()\n"
      ],
      "metadata": {
        "id": "MadCCPSgb9DE"
      },
      "execution_count": null,
      "outputs": []
    },
    {
      "cell_type": "code",
      "source": [
        "obj2.reading()"
      ],
      "metadata": {
        "id": "IQXPGXy5cdqn",
        "colab": {
          "base_uri": "https://localhost:8080/"
        },
        "outputId": "ce9e564a-26e1-4a20-aa4c-0dd5013679c1"
      },
      "execution_count": null,
      "outputs": [
        {
          "output_type": "stream",
          "name": "stdout",
          "text": [
            "$$$$$$$$$$$$$$ I AM THE RICHES IN ALL AREAS OF MY LIFE\n"
          ]
        }
      ]
    },
    {
      "cell_type": "code",
      "source": [
        "# new way\n",
        "\n",
        "class taks_parent:\n",
        "  def __init__(self,name_file,filetype):\n",
        "    self.name_file = name_file\n",
        "    self.filetype = filetype\n",
        "\n",
        "  def write_in(self):\n",
        "    f = open(self.name_file,\"w\")\n",
        "    f.write(\"THis is going to help me get a job\")\n",
        "    f.close()\n",
        "\n",
        "  def read_in(self):\n",
        "    f = open(self.name_file,\"r\")\n",
        "    print(f.read())\n",
        "    f.close()\n",
        "\n",
        "class task_child(taks_parent):\n",
        "  pass\n",
        "\n",
        "obj3 = task_child(\"test_file_1\",\".txt|\")"
      ],
      "metadata": {
        "id": "ei5H-KqGMYtk"
      },
      "execution_count": null,
      "outputs": []
    },
    {
      "cell_type": "code",
      "source": [
        "obj3.write_in()"
      ],
      "metadata": {
        "id": "m2pM-KFdOodP"
      },
      "execution_count": null,
      "outputs": []
    },
    {
      "cell_type": "code",
      "source": [
        "obj3.read_in()"
      ],
      "metadata": {
        "colab": {
          "base_uri": "https://localhost:8080/"
        },
        "id": "uYNNml_eOv4Y",
        "outputId": "df42179d-c5de-47d4-9b25-4618c2de5103"
      },
      "execution_count": null,
      "outputs": [
        {
          "output_type": "stream",
          "name": "stdout",
          "text": [
            "THis is going to help me get a job\n"
          ]
        }
      ]
    },
    {
      "cell_type": "code",
      "source": [
        "# public , RPivate and Protected"
      ],
      "metadata": {
        "id": "QlRNa8GAOyUG"
      },
      "execution_count": null,
      "outputs": []
    },
    {
      "cell_type": "code",
      "source": [
        "# Abstraction concept\n",
        "# notation is a keyword\n"
      ],
      "metadata": {
        "id": "MnULusruPDQ7"
      },
      "execution_count": null,
      "outputs": []
    },
    {
      "cell_type": "code",
      "source": [
        "class test:\n",
        "  def __init__(self,a,b,c):\n",
        "    self.a = a\n",
        "    self.b = b\n",
        "    self.c = c\n",
        "\n",
        "class test1(test):\n",
        "  pass\n",
        "\n",
        "\n",
        "u = test(4,5,6)\n",
        "u.a"
      ],
      "metadata": {
        "colab": {
          "base_uri": "https://localhost:8080/"
        },
        "id": "tlUPF9lBPXwK",
        "outputId": "186f2174-93a3-463d-c8b1-362231bdb6fd"
      },
      "execution_count": null,
      "outputs": [
        {
          "output_type": "execute_result",
          "data": {
            "text/plain": [
              "4"
            ]
          },
          "metadata": {},
          "execution_count": 20
        }
      ]
    },
    {
      "cell_type": "code",
      "source": [
        "# as we can se we can acees the variable a outisde the class using the object\n",
        "\n",
        "v = test1(6,7,8)\n",
        "v.a\n",
        "\n",
        "# thsi value of a is altered coz of new object"
      ],
      "metadata": {
        "colab": {
          "base_uri": "https://localhost:8080/"
        },
        "id": "_S99-FXNPvsh",
        "outputId": "c7c5283d-f62d-4e97-aacd-065a18d8657b"
      },
      "execution_count": null,
      "outputs": [
        {
          "output_type": "execute_result",
          "data": {
            "text/plain": [
              "6"
            ]
          },
          "metadata": {},
          "execution_count": 23
        }
      ]
    },
    {
      "cell_type": "code",
      "source": [
        "# we can aceess these variables directly and modify it is cozits public\n"
      ],
      "metadata": {
        "id": "e55rOoVpQJHm"
      },
      "execution_count": null,
      "outputs": []
    },
    {
      "cell_type": "code",
      "source": [
        "class test:\n",
        "  def __init__(self):\n",
        "    self.a = 10\n",
        "\n",
        "\n",
        "class test1(test):\n",
        "  pass\n",
        "\n",
        "\n",
        "m = test()\n",
        "m.a"
      ],
      "metadata": {
        "colab": {
          "base_uri": "https://localhost:8080/"
        },
        "id": "ql4sYktqQ2yk",
        "outputId": "34f14667-64c8-4112-fb31-278a3dcb23c7"
      },
      "execution_count": null,
      "outputs": [
        {
          "output_type": "execute_result",
          "data": {
            "text/plain": [
              "10"
            ]
          },
          "metadata": {},
          "execution_count": 25
        }
      ]
    },
    {
      "cell_type": "code",
      "source": [
        "n = test1()\n",
        "n.a"
      ],
      "metadata": {
        "colab": {
          "base_uri": "https://localhost:8080/"
        },
        "id": "m7yFipsrRCyy",
        "outputId": "aeda5e6b-6bf0-4986-e14c-31e14e4032d7"
      },
      "execution_count": null,
      "outputs": [
        {
          "output_type": "execute_result",
          "data": {
            "text/plain": [
              "10"
            ]
          },
          "metadata": {},
          "execution_count": 26
        }
      ]
    },
    {
      "cell_type": "code",
      "source": [
        "# Modificaiton\n",
        "\n",
        "class test:\n",
        "  def __init__(self):\n",
        "    self.a = 11   # public\n",
        "\n",
        "\n",
        "class test1(test):\n",
        "  def __init__(self):\n",
        "    self.a = 7  # public\n",
        "\n",
        "\n",
        "m = test()\n",
        "m.a"
      ],
      "metadata": {
        "colab": {
          "base_uri": "https://localhost:8080/"
        },
        "id": "rvDPd_r0RJQE",
        "outputId": "a068e0a2-731f-4c2e-b26e-b223179ed77b"
      },
      "execution_count": null,
      "outputs": [
        {
          "output_type": "execute_result",
          "data": {
            "text/plain": [
              "11"
            ]
          },
          "metadata": {},
          "execution_count": 28
        }
      ]
    },
    {
      "cell_type": "code",
      "source": [
        "n =  test1()\n",
        "n.a\n",
        "\n",
        "#so we can ger different values\n",
        "# we can no longer acces the parent variable ans the child class has its own variable with sane name but different value"
      ],
      "metadata": {
        "colab": {
          "base_uri": "https://localhost:8080/"
        },
        "id": "TwugrmICRa3b",
        "outputId": "7c73c39f-8684-4636-b76f-88d794631472"
      },
      "execution_count": null,
      "outputs": [
        {
          "output_type": "execute_result",
          "data": {
            "text/plain": [
              "7"
            ]
          },
          "metadata": {},
          "execution_count": 31
        }
      ]
    },
    {
      "cell_type": "code",
      "source": [
        "class test:\n",
        "  def __init__(self):\n",
        "    self.a =  2         # public\n",
        "\n",
        "class test1(test):\n",
        "  def __init__(self):\n",
        "    test.__init__(self)\n",
        "    self.a = 4\n"
      ],
      "metadata": {
        "id": "heWjskkURe6t"
      },
      "execution_count": null,
      "outputs": []
    },
    {
      "cell_type": "code",
      "source": [
        "u = test()\n",
        "u.a"
      ],
      "metadata": {
        "colab": {
          "base_uri": "https://localhost:8080/"
        },
        "id": "K6QFuFg4UmJe",
        "outputId": "730744f5-684c-4e96-ee09-68ccb321673b"
      },
      "execution_count": null,
      "outputs": [
        {
          "output_type": "execute_result",
          "data": {
            "text/plain": [
              "2"
            ]
          },
          "metadata": {},
          "execution_count": 4
        }
      ]
    },
    {
      "cell_type": "code",
      "source": [
        "v = test1()\n",
        "v.a"
      ],
      "metadata": {
        "colab": {
          "base_uri": "https://localhost:8080/"
        },
        "id": "uf6PpCRyVW4-",
        "outputId": "64adbf06-8e54-43b7-db38-65ef685af489"
      },
      "execution_count": null,
      "outputs": [
        {
          "output_type": "execute_result",
          "data": {
            "text/plain": [
              "4"
            ]
          },
          "metadata": {},
          "execution_count": 5
        }
      ]
    },
    {
      "cell_type": "code",
      "source": [
        "class test:\n",
        "  def __init__(self):\n",
        "    self._a =  2         # public\n",
        "\n",
        "class test1(test):\n",
        "  def __init__(self):\n",
        "    self.a = 4\n"
      ],
      "metadata": {
        "id": "zqOPpUhbVaAP"
      },
      "execution_count": null,
      "outputs": []
    },
    {
      "cell_type": "code",
      "source": [
        "u = test1()\n",
        "u._a  # this is coz i added _a instade of a"
      ],
      "metadata": {
        "colab": {
          "base_uri": "https://localhost:8080/",
          "height": 159
        },
        "id": "mpeVapSJVqL2",
        "outputId": "20cd5649-2292-47f5-f52a-bde67d6723e7"
      },
      "execution_count": null,
      "outputs": [
        {
          "output_type": "error",
          "ename": "AttributeError",
          "evalue": "'test1' object has no attribute '_a'",
          "traceback": [
            "\u001b[0;31m---------------------------------------------------------------------------\u001b[0m",
            "\u001b[0;31mAttributeError\u001b[0m                            Traceback (most recent call last)",
            "\u001b[0;32m<ipython-input-13-a0bc6c177f64>\u001b[0m in \u001b[0;36m<cell line: 0>\u001b[0;34m()\u001b[0m\n\u001b[1;32m      1\u001b[0m \u001b[0mu\u001b[0m \u001b[0;34m=\u001b[0m \u001b[0mtest1\u001b[0m\u001b[0;34m(\u001b[0m\u001b[0;34m)\u001b[0m\u001b[0;34m\u001b[0m\u001b[0;34m\u001b[0m\u001b[0m\n\u001b[0;32m----> 2\u001b[0;31m \u001b[0mu\u001b[0m\u001b[0;34m.\u001b[0m\u001b[0m_a\u001b[0m  \u001b[0;31m# this is coz i added _a instade of a\u001b[0m\u001b[0;34m\u001b[0m\u001b[0;34m\u001b[0m\u001b[0m\n\u001b[0m",
            "\u001b[0;31mAttributeError\u001b[0m: 'test1' object has no attribute '_a'"
          ]
        }
      ]
    },
    {
      "cell_type": "code",
      "source": [
        "#''' it gives us an erroe :\n",
        "# AttributeError: 'test' object has no attribute 'a''''\n",
        "\n",
        "#  '''whenever you create a variable with a single underscore in python\n",
        "# it will be printed as a PROTECTED variable\\'''\n",
        "\n",
        "# Public variable you can access anywhere\n",
        "\n",
        "# '''Protected variable you will be able to access it inside :\n",
        "# the class , and in subclass'''"
      ],
      "metadata": {
        "id": "YXKtFa1Kalw5"
      },
      "execution_count": null,
      "outputs": []
    },
    {
      "cell_type": "code",
      "source": [
        "class parent:\n",
        "  def __init__(self):\n",
        "    self._a = 8\n",
        "\n",
        "class child(parent):\n",
        "  def __init__(self):\n",
        "    self._a = 9"
      ],
      "metadata": {
        "id": "iquJMwEeXHst"
      },
      "execution_count": null,
      "outputs": []
    },
    {
      "cell_type": "code",
      "source": [
        "u = parent()\n",
        "v = child()"
      ],
      "metadata": {
        "id": "k1bVIpVBXa_2"
      },
      "execution_count": null,
      "outputs": []
    },
    {
      "cell_type": "code",
      "source": [
        "u._a"
      ],
      "metadata": {
        "colab": {
          "base_uri": "https://localhost:8080/"
        },
        "id": "yc_x8Nf5XjBn",
        "outputId": "797b3835-2e98-4849-fe9e-80893d4a5667"
      },
      "execution_count": null,
      "outputs": [
        {
          "output_type": "execute_result",
          "data": {
            "text/plain": [
              "8"
            ]
          },
          "metadata": {},
          "execution_count": 18
        }
      ]
    },
    {
      "cell_type": "code",
      "source": [
        "v._a"
      ],
      "metadata": {
        "colab": {
          "base_uri": "https://localhost:8080/"
        },
        "id": "TK0iYKY9Xj5q",
        "outputId": "b6f144cb-fbb0-424f-e252-cd0f4b3c3971"
      },
      "execution_count": null,
      "outputs": [
        {
          "output_type": "execute_result",
          "data": {
            "text/plain": [
              "9"
            ]
          },
          "metadata": {},
          "execution_count": 19
        }
      ]
    },
    {
      "cell_type": "code",
      "source": [],
      "metadata": {
        "id": "lSfWWd1RYa_b"
      },
      "execution_count": null,
      "outputs": []
    },
    {
      "cell_type": "code",
      "source": [
        "# inoreder to access the variable in subclass\n",
        "# add double underscore in front of the subclass variable as well\n",
        "\n",
        "# example follows :"
      ],
      "metadata": {
        "id": "ux_wn97bXlSs"
      },
      "execution_count": null,
      "outputs": []
    },
    {
      "cell_type": "code",
      "source": [
        "class parent:\n",
        "  def __init__(self):\n",
        "    self.__a = 22\n",
        "\n",
        "class chils(parent):\n",
        "  def __init__(self):\n",
        "    self.__a = 44\n",
        "\n",
        "u = parent()\n",
        "v = child()"
      ],
      "metadata": {
        "id": "Od3sT6-oYc4X"
      },
      "execution_count": null,
      "outputs": []
    },
    {
      "cell_type": "code",
      "source": [
        "u.__a() # Now we r not able to acces the variable\n",
        "# private"
      ],
      "metadata": {
        "colab": {
          "base_uri": "https://localhost:8080/",
          "height": 141
        },
        "id": "zuuzCCAwY3a6",
        "outputId": "e0c8b06c-dc57-4933-ff4a-6e1daed65c6e"
      },
      "execution_count": null,
      "outputs": [
        {
          "output_type": "error",
          "ename": "AttributeError",
          "evalue": "'parent' object has no attribute '__a'",
          "traceback": [
            "\u001b[0;31m---------------------------------------------------------------------------\u001b[0m",
            "\u001b[0;31mAttributeError\u001b[0m                            Traceback (most recent call last)",
            "\u001b[0;32m<ipython-input-25-0e075fb68f31>\u001b[0m in \u001b[0;36m<cell line: 0>\u001b[0;34m()\u001b[0m\n\u001b[0;32m----> 1\u001b[0;31m \u001b[0mu\u001b[0m\u001b[0;34m.\u001b[0m\u001b[0m__a\u001b[0m\u001b[0;34m(\u001b[0m\u001b[0;34m)\u001b[0m \u001b[0;31m# Now we r not able to acces the variable\u001b[0m\u001b[0;34m\u001b[0m\u001b[0;34m\u001b[0m\u001b[0m\n\u001b[0m",
            "\u001b[0;31mAttributeError\u001b[0m: 'parent' object has no attribute '__a'"
          ]
        }
      ]
    },
    {
      "cell_type": "code",
      "source": [],
      "metadata": {
        "id": "8TXBOMKeY6ay"
      },
      "execution_count": null,
      "outputs": []
    },
    {
      "cell_type": "code",
      "source": [
        "# Why are we not able to access\n",
        "\n",
        "# Public variable : not supposed to write a code for modification\n",
        "# self.a = 1\n",
        "# nothing\n",
        "# TO CALL/ACCESS : obj.varname\n",
        "\n",
        "# protected variable : can only inherit into the subclass. the scope will not be avilable outside the subclass\\\n",
        "# self._a = 2\n",
        "# single underscore\n",
        "# TO CALL/ACCESS : obj._varname\n",
        "\n",
        "# Private variable : It is not allowed to be inherited into a subclass\n",
        "# self.__a = 3\n",
        "# Double underscore\n",
        "# TO CALL/ACCESS : obj._calssname__varname"
      ],
      "metadata": {
        "id": "bS63mjUGY_68"
      },
      "execution_count": null,
      "outputs": []
    },
    {
      "cell_type": "code",
      "source": [
        "class parent:\n",
        "  def __init__(self,a,b,c):\n",
        "    self.a = a\n",
        "    self.b = b\n",
        "    self.c = c\n",
        "\n",
        "\n",
        "q = parent(4,5,6)"
      ],
      "metadata": {
        "id": "_9J__u5BaoCl"
      },
      "execution_count": null,
      "outputs": []
    },
    {
      "cell_type": "code",
      "source": [
        "q.a"
      ],
      "metadata": {
        "colab": {
          "base_uri": "https://localhost:8080/"
        },
        "id": "dZPI0ixta3ru",
        "outputId": "e673321a-35b2-430b-aa00-8d6c06bcfee2"
      },
      "execution_count": null,
      "outputs": [
        {
          "output_type": "execute_result",
          "data": {
            "text/plain": [
              "4"
            ]
          },
          "metadata": {},
          "execution_count": 32
        }
      ]
    },
    {
      "cell_type": "code",
      "source": [
        "class parent:\n",
        "  def __init__(self,a,b,c):\n",
        "    self._a = a\n",
        "    self.b = b\n",
        "    self.c = c\n",
        "\n",
        "\n",
        "q = parent(4,5,6)\n",
        "q.a  # coz we added underscore now"
      ],
      "metadata": {
        "colab": {
          "base_uri": "https://localhost:8080/",
          "height": 176
        },
        "id": "paZDCpH8bKcI",
        "outputId": "713b24b4-e254-49e9-d60b-0355238d7c7a"
      },
      "execution_count": null,
      "outputs": [
        {
          "output_type": "error",
          "ename": "AttributeError",
          "evalue": "'parent' object has no attribute 'a'",
          "traceback": [
            "\u001b[0;31m---------------------------------------------------------------------------\u001b[0m",
            "\u001b[0;31mAttributeError\u001b[0m                            Traceback (most recent call last)",
            "\u001b[0;32m<ipython-input-34-ae1e620ec377>\u001b[0m in \u001b[0;36m<cell line: 0>\u001b[0;34m()\u001b[0m\n\u001b[1;32m      7\u001b[0m \u001b[0;34m\u001b[0m\u001b[0m\n\u001b[1;32m      8\u001b[0m \u001b[0mq\u001b[0m \u001b[0;34m=\u001b[0m \u001b[0mparent\u001b[0m\u001b[0;34m(\u001b[0m\u001b[0;36m4\u001b[0m\u001b[0;34m,\u001b[0m\u001b[0;36m5\u001b[0m\u001b[0;34m,\u001b[0m\u001b[0;36m6\u001b[0m\u001b[0;34m)\u001b[0m\u001b[0;34m\u001b[0m\u001b[0;34m\u001b[0m\u001b[0m\n\u001b[0;32m----> 9\u001b[0;31m \u001b[0mq\u001b[0m\u001b[0;34m.\u001b[0m\u001b[0ma\u001b[0m  \u001b[0;31m# coz we added underscore now\u001b[0m\u001b[0;34m\u001b[0m\u001b[0;34m\u001b[0m\u001b[0m\n\u001b[0m",
            "\u001b[0;31mAttributeError\u001b[0m: 'parent' object has no attribute 'a'"
          ]
        }
      ]
    },
    {
      "cell_type": "code",
      "source": [
        "class parent:\n",
        "  def __init__(self,a,b,c):\n",
        "    self._a = a\n",
        "    self.__b = b\n",
        "    self.c = c\n",
        "\n",
        "\n",
        "q = parent(4,5,6)\n",
        "q._a\n",
        "\n",
        "#"
      ],
      "metadata": {
        "colab": {
          "base_uri": "https://localhost:8080/"
        },
        "id": "sw8JiFU0bTPV",
        "outputId": "46ae858e-9581-4648-d03c-14c071a9fe46"
      },
      "execution_count": null,
      "outputs": [
        {
          "output_type": "execute_result",
          "data": {
            "text/plain": [
              "4"
            ]
          },
          "metadata": {},
          "execution_count": 36
        }
      ]
    },
    {
      "cell_type": "code",
      "source": [
        "q.__b  # This does not work coz we r not allowed to acces or\n",
        "#  modify this without permition outside the class"
      ],
      "metadata": {
        "colab": {
          "base_uri": "https://localhost:8080/",
          "height": 159
        },
        "id": "LSs5AneqbY-S",
        "outputId": "c6ef4e05-2a84-4686-9748-725a4b050852"
      },
      "execution_count": null,
      "outputs": [
        {
          "output_type": "error",
          "ename": "AttributeError",
          "evalue": "'parent' object has no attribute '__b'",
          "traceback": [
            "\u001b[0;31m---------------------------------------------------------------------------\u001b[0m",
            "\u001b[0;31mAttributeError\u001b[0m                            Traceback (most recent call last)",
            "\u001b[0;32m<ipython-input-39-4e946c10c586>\u001b[0m in \u001b[0;36m<cell line: 0>\u001b[0;34m()\u001b[0m\n\u001b[0;32m----> 1\u001b[0;31m \u001b[0mq\u001b[0m\u001b[0;34m.\u001b[0m\u001b[0m__b\u001b[0m  \u001b[0;31m# This does not work coz we r not allowed to acces or\u001b[0m\u001b[0;34m\u001b[0m\u001b[0;34m\u001b[0m\u001b[0m\n\u001b[0m\u001b[1;32m      2\u001b[0m \u001b[0;31m#  modify this without permition outside the class\u001b[0m\u001b[0;34m\u001b[0m\u001b[0;34m\u001b[0m\u001b[0m\n",
            "\u001b[0;31mAttributeError\u001b[0m: 'parent' object has no attribute '__b'"
          ]
        }
      ]
    },
    {
      "cell_type": "code",
      "source": [
        "# to acces it if you are incharge and people cant access it\n",
        "\n",
        "#object._classname__varname\n",
        "\n",
        "q._parent__b"
      ],
      "metadata": {
        "colab": {
          "base_uri": "https://localhost:8080/"
        },
        "id": "dttJFMZnbkzk",
        "outputId": "e6503676-ff04-4816-95e8-de679cc95c54"
      },
      "execution_count": null,
      "outputs": [
        {
          "output_type": "execute_result",
          "data": {
            "text/plain": [
              "5"
            ]
          },
          "metadata": {},
          "execution_count": 43
        }
      ]
    },
    {
      "cell_type": "code",
      "source": [
        "# CHECK AACCESSIBILITY OF DIFFERENT VARS IN CHILD CLASS\n",
        "\n",
        "class parent:\n",
        "  def __init__(self,a,b,c):\n",
        "    self._a = a   # public\n",
        "    self.__b = b  # protected\n",
        "    self.c = c    # private\n",
        "\n",
        "class child(parent):\n",
        "  pass\n",
        "\n",
        "p = parent(5,6,7)\n",
        "r = child(8,9,10)"
      ],
      "metadata": {
        "id": "bpPNqdDicEXk"
      },
      "execution_count": null,
      "outputs": []
    },
    {
      "cell_type": "code",
      "source": [
        "print(p._a, p._parent__b, p.c)\n",
        "\n",
        "# we cann access all the variable with the main class object"
      ],
      "metadata": {
        "colab": {
          "base_uri": "https://localhost:8080/"
        },
        "id": "gRHEHUm0dR6r",
        "outputId": "41d53a88-a3c9-47cf-c959-0339bd8adedb"
      },
      "execution_count": null,
      "outputs": [
        {
          "output_type": "stream",
          "name": "stdout",
          "text": [
            "5 6 7\n"
          ]
        }
      ]
    },
    {
      "cell_type": "code",
      "source": [
        "# For CHILD class objec\n",
        "\n",
        "r._a"
      ],
      "metadata": {
        "colab": {
          "base_uri": "https://localhost:8080/"
        },
        "id": "jvqk4q48dkcF",
        "outputId": "02b6f0ca-5a3d-4ff5-f5d6-bc684ad1cfe8"
      },
      "execution_count": null,
      "outputs": [
        {
          "output_type": "execute_result",
          "data": {
            "text/plain": [
              "8"
            ]
          },
          "metadata": {},
          "execution_count": 57
        }
      ]
    },
    {
      "cell_type": "code",
      "source": [
        "r.a"
      ],
      "metadata": {
        "colab": {
          "base_uri": "https://localhost:8080/",
          "height": 141
        },
        "id": "Oix7AX7qeSSe",
        "outputId": "d4018186-d5f9-482c-9b7c-c3e5ea45be52"
      },
      "execution_count": null,
      "outputs": [
        {
          "output_type": "error",
          "ename": "AttributeError",
          "evalue": "'child' object has no attribute 'a'",
          "traceback": [
            "\u001b[0;31m---------------------------------------------------------------------------\u001b[0m",
            "\u001b[0;31mAttributeError\u001b[0m                            Traceback (most recent call last)",
            "\u001b[0;32m<ipython-input-60-562de1ece2ac>\u001b[0m in \u001b[0;36m<cell line: 0>\u001b[0;34m()\u001b[0m\n\u001b[0;32m----> 1\u001b[0;31m \u001b[0mr\u001b[0m\u001b[0;34m.\u001b[0m\u001b[0ma\u001b[0m\u001b[0;34m\u001b[0m\u001b[0;34m\u001b[0m\u001b[0m\n\u001b[0m",
            "\u001b[0;31mAttributeError\u001b[0m: 'child' object has no attribute 'a'"
          ]
        }
      ]
    },
    {
      "cell_type": "code",
      "source": [
        "r._child__b  # private class thus not accessable with child calss object"
      ],
      "metadata": {
        "colab": {
          "base_uri": "https://localhost:8080/",
          "height": 141
        },
        "id": "PUYhvvLueZZ9",
        "outputId": "8951bf0d-801d-464f-b44e-b83b3f1e8d3b"
      },
      "execution_count": null,
      "outputs": [
        {
          "output_type": "error",
          "ename": "AttributeError",
          "evalue": "'child' object has no attribute '_child__b'",
          "traceback": [
            "\u001b[0;31m---------------------------------------------------------------------------\u001b[0m",
            "\u001b[0;31mAttributeError\u001b[0m                            Traceback (most recent call last)",
            "\u001b[0;32m<ipython-input-63-9aa0a53e1ee5>\u001b[0m in \u001b[0;36m<cell line: 0>\u001b[0;34m()\u001b[0m\n\u001b[0;32m----> 1\u001b[0;31m \u001b[0mr\u001b[0m\u001b[0;34m.\u001b[0m\u001b[0m_child__b\u001b[0m  \u001b[0;31m# private class thus not accessable with child calss object\u001b[0m\u001b[0;34m\u001b[0m\u001b[0;34m\u001b[0m\u001b[0m\n\u001b[0m",
            "\u001b[0;31mAttributeError\u001b[0m: 'child' object has no attribute '_child__b'"
          ]
        }
      ]
    },
    {
      "cell_type": "code",
      "source": [
        "r._parent__b   #''' we can  call private var\n",
        "# using parent classs from which it is been\n",
        "#  inherited even with child class object'''"
      ],
      "metadata": {
        "colab": {
          "base_uri": "https://localhost:8080/"
        },
        "id": "DBI-2rRpetH1",
        "outputId": "8cab9e21-04a7-412a-99c9-66467625b555"
      },
      "execution_count": null,
      "outputs": [
        {
          "output_type": "execute_result",
          "data": {
            "text/plain": [
              "9"
            ]
          },
          "metadata": {},
          "execution_count": 65
        }
      ]
    },
    {
      "cell_type": "code",
      "source": [
        "r.__b"
      ],
      "metadata": {
        "colab": {
          "base_uri": "https://localhost:8080/",
          "height": 141
        },
        "id": "N3QzBp3AeT_Z",
        "outputId": "2fa1cc10-ac89-4cab-fbf2-2b46c72d1c7e"
      },
      "execution_count": null,
      "outputs": [
        {
          "output_type": "error",
          "ename": "AttributeError",
          "evalue": "'child' object has no attribute '__b'",
          "traceback": [
            "\u001b[0;31m---------------------------------------------------------------------------\u001b[0m",
            "\u001b[0;31mAttributeError\u001b[0m                            Traceback (most recent call last)",
            "\u001b[0;32m<ipython-input-64-2282ea371715>\u001b[0m in \u001b[0;36m<cell line: 0>\u001b[0;34m()\u001b[0m\n\u001b[0;32m----> 1\u001b[0;31m \u001b[0mr\u001b[0m\u001b[0;34m.\u001b[0m\u001b[0m__b\u001b[0m\u001b[0;34m\u001b[0m\u001b[0;34m\u001b[0m\u001b[0m\n\u001b[0m",
            "\u001b[0;31mAttributeError\u001b[0m: 'child' object has no attribute '__b'"
          ]
        }
      ]
    },
    {
      "cell_type": "code",
      "source": [
        "r.c"
      ],
      "metadata": {
        "colab": {
          "base_uri": "https://localhost:8080/"
        },
        "id": "ylPp_mfTeBFh",
        "outputId": "f094abc6-bf5e-494b-bf34-bc8ea950a32e"
      },
      "execution_count": null,
      "outputs": [
        {
          "output_type": "execute_result",
          "data": {
            "text/plain": [
              "10"
            ]
          },
          "metadata": {},
          "execution_count": 59
        }
      ]
    },
    {
      "cell_type": "code",
      "source": [
        "# EX:\n",
        "\n",
        "class bonouscalculator:\n",
        "  def __init__(self,empid,emprating):\n",
        "    self.empid = empid\n",
        "    self.emprating = emprating\n",
        "    self.__forA = \"70%\"\n",
        "    self.__forB = '60%'\n",
        "    self.__forC = \"40%\"\n",
        "\n",
        "  def calculator(self):\n",
        "    if self.emprating ==\"A\":\n",
        "      bonus = self.__forA\n",
        "      return bonus\n",
        "    elif self.emprating == \"B\":\n",
        "      bonus = self.__forB\n",
        "      return bonus\n",
        "    else:\n",
        "      bonus = self.__forC\n",
        "      return bonus"
      ],
      "metadata": {
        "id": "rH5xxbPyeLpf"
      },
      "execution_count": null,
      "outputs": []
    },
    {
      "cell_type": "code",
      "source": [
        "emp1 = bonouscalculator(101, \"A\")\n",
        "emp2 = bonouscalculator(102,\"C\")\n",
        "emp3 = bonouscalculator(103, \"B\")"
      ],
      "metadata": {
        "id": "DH8qSPX2gCkR"
      },
      "execution_count": null,
      "outputs": []
    },
    {
      "cell_type": "code",
      "source": [
        "emp1.calculator()"
      ],
      "metadata": {
        "colab": {
          "base_uri": "https://localhost:8080/",
          "height": 35
        },
        "id": "1xdd_X4ahZQi",
        "outputId": "d64d6178-58e0-4615-b05f-66e468b8fecc"
      },
      "execution_count": null,
      "outputs": [
        {
          "output_type": "execute_result",
          "data": {
            "text/plain": [
              "'70%'"
            ],
            "application/vnd.google.colaboratory.intrinsic+json": {
              "type": "string"
            }
          },
          "metadata": {},
          "execution_count": 69
        }
      ]
    },
    {
      "cell_type": "code",
      "source": [
        "emp2.calculator()"
      ],
      "metadata": {
        "colab": {
          "base_uri": "https://localhost:8080/",
          "height": 35
        },
        "id": "f6FXizcohYZb",
        "outputId": "ef28ef9a-d148-41ab-a28e-d62ad2160a20"
      },
      "execution_count": null,
      "outputs": [
        {
          "output_type": "execute_result",
          "data": {
            "text/plain": [
              "'40%'"
            ],
            "application/vnd.google.colaboratory.intrinsic+json": {
              "type": "string"
            }
          },
          "metadata": {},
          "execution_count": 70
        }
      ]
    },
    {
      "cell_type": "code",
      "source": [
        "emp3.calculator()"
      ],
      "metadata": {
        "colab": {
          "base_uri": "https://localhost:8080/",
          "height": 35
        },
        "id": "2lYKH4XAhhfq",
        "outputId": "3c920a33-5cbc-4f65-9725-21589a60ce06"
      },
      "execution_count": null,
      "outputs": [
        {
          "output_type": "execute_result",
          "data": {
            "text/plain": [
              "'60%'"
            ],
            "application/vnd.google.colaboratory.intrinsic+json": {
              "type": "string"
            }
          },
          "metadata": {},
          "execution_count": 71
        }
      ]
    },
    {
      "cell_type": "code",
      "source": [
        "# trying to overwrite empid\n",
        "\n",
        "emp1.empid =104\n",
        "emp1.empid"
      ],
      "metadata": {
        "colab": {
          "base_uri": "https://localhost:8080/"
        },
        "id": "rvn3H2hThiyK",
        "outputId": "ede6d52a-2d99-4069-9098-bb15b280c007"
      },
      "execution_count": null,
      "outputs": [
        {
          "output_type": "execute_result",
          "data": {
            "text/plain": [
              "104"
            ]
          },
          "metadata": {},
          "execution_count": 72
        }
      ]
    },
    {
      "cell_type": "code",
      "source": [
        "emp1.emprating = \"F\"\n",
        "emp1.calculator()"
      ],
      "metadata": {
        "colab": {
          "base_uri": "https://localhost:8080/",
          "height": 35
        },
        "id": "hFyUp4AZiJqw",
        "outputId": "41e18438-afbe-450c-cc87-c7ab4ad152db"
      },
      "execution_count": null,
      "outputs": [
        {
          "output_type": "execute_result",
          "data": {
            "text/plain": [
              "'40%'"
            ],
            "application/vnd.google.colaboratory.intrinsic+json": {
              "type": "string"
            }
          },
          "metadata": {},
          "execution_count": 73
        }
      ]
    },
    {
      "cell_type": "code",
      "source": [
        "emp1.__forB = \"90%\"\n",
        "\n",
        "# i changed it to 90% but can not overwrite it"
      ],
      "metadata": {
        "id": "fKmQcL6xiTAW"
      },
      "execution_count": null,
      "outputs": []
    },
    {
      "cell_type": "code",
      "source": [
        "emp1.emprating"
      ],
      "metadata": {
        "colab": {
          "base_uri": "https://localhost:8080/",
          "height": 35
        },
        "id": "xMj_2AXCipwV",
        "outputId": "ea6208ad-c3d7-4d67-890f-52630acf55b9"
      },
      "execution_count": null,
      "outputs": [
        {
          "output_type": "execute_result",
          "data": {
            "text/plain": [
              "'F'"
            ],
            "application/vnd.google.colaboratory.intrinsic+json": {
              "type": "string"
            }
          },
          "metadata": {},
          "execution_count": 79
        }
      ]
    },
    {
      "cell_type": "code",
      "source": [
        "emp1.calculator()"
      ],
      "metadata": {
        "colab": {
          "base_uri": "https://localhost:8080/",
          "height": 35
        },
        "id": "4pY7HWvGibJP",
        "outputId": "5397139d-f0f0-40b6-f27c-038a1c707203"
      },
      "execution_count": null,
      "outputs": [
        {
          "output_type": "execute_result",
          "data": {
            "text/plain": [
              "'40%'"
            ],
            "application/vnd.google.colaboratory.intrinsic+json": {
              "type": "string"
            }
          },
          "metadata": {},
          "execution_count": 80
        }
      ]
    },
    {
      "cell_type": "code",
      "source": [
        "emp2.calculator()"
      ],
      "metadata": {
        "colab": {
          "base_uri": "https://localhost:8080/",
          "height": 35
        },
        "id": "su42Gzrnijhk",
        "outputId": "e8107c43-5f48-4d0f-c75f-ea87c622cf96"
      },
      "execution_count": null,
      "outputs": [
        {
          "output_type": "execute_result",
          "data": {
            "text/plain": [
              "'40%'"
            ],
            "application/vnd.google.colaboratory.intrinsic+json": {
              "type": "string"
            }
          },
          "metadata": {},
          "execution_count": 82
        }
      ]
    },
    {
      "cell_type": "code",
      "source": [
        "emp2.__forB = \"100%\"\n",
        "\n",
        "emp2.calculator()   # see , cant modify things with __ {private variable}"
      ],
      "metadata": {
        "colab": {
          "base_uri": "https://localhost:8080/",
          "height": 35
        },
        "id": "1fPC9Ni-i0GA",
        "outputId": "3fdbcd57-cbb6-4963-d271-9759f8772700"
      },
      "execution_count": null,
      "outputs": [
        {
          "output_type": "execute_result",
          "data": {
            "text/plain": [
              "'40%'"
            ],
            "application/vnd.google.colaboratory.intrinsic+json": {
              "type": "string"
            }
          },
          "metadata": {},
          "execution_count": 84
        }
      ]
    },
    {
      "cell_type": "code",
      "source": [
        "emp2.__forB = \"89%\"\n",
        "\n",
        "emp2._bonouscalculator__forB\n",
        "#''' so whe nwe try to modify it does not give us an error\n",
        "#  but it also does not change/modify the info'''"
      ],
      "metadata": {
        "colab": {
          "base_uri": "https://localhost:8080/",
          "height": 35
        },
        "id": "pXCHo3U-jR_k",
        "outputId": "e3ec79f0-87bf-41ce-a094-b3d8a9f7587b"
      },
      "execution_count": null,
      "outputs": [
        {
          "output_type": "execute_result",
          "data": {
            "text/plain": [
              "'60%'"
            ],
            "application/vnd.google.colaboratory.intrinsic+json": {
              "type": "string"
            }
          },
          "metadata": {},
          "execution_count": 88
        }
      ]
    },
    {
      "cell_type": "code",
      "source": [
        "class bonouscalculator:\n",
        "  def __init__(self,empid,emprating):\n",
        "    self.empid = empid\n",
        "    self.emprating = emprating\n",
        "    self._mail = \"dsgfkjherg@gmail.com\"\n",
        "    self.__forA = \"70%\"\n",
        "    self.__forB = '60%'\n",
        "    self.__forC = \"40%\"\n",
        "\n",
        "  def calculator(self):\n",
        "    if self.emprating ==\"A\":\n",
        "      bonus = self.__forA\n",
        "      return bonus\n",
        "    elif self.emprating == \"B\":\n",
        "      bonus = self.__forB\n",
        "      return bonus\n",
        "    else:\n",
        "      bonus = self.__forC\n",
        "      return bonus\n",
        "\n",
        "\n",
        "emp1 = bonouscalculator(101, \"A\")\n",
        "emp2 = bonouscalculator(102,\"B\")\n",
        "emp3 = bonouscalculator(103, \"C\")"
      ],
      "metadata": {
        "id": "tgej4S6FjqRI"
      },
      "execution_count": null,
      "outputs": []
    },
    {
      "cell_type": "code",
      "source": [
        "emp1._mail"
      ],
      "metadata": {
        "colab": {
          "base_uri": "https://localhost:8080/",
          "height": 35
        },
        "id": "eQgI-Z5tkHks",
        "outputId": "089b4287-2bfe-4903-8bdb-73567728bbf5"
      },
      "execution_count": null,
      "outputs": [
        {
          "output_type": "execute_result",
          "data": {
            "text/plain": [
              "'dsgfkjherg@gmail.com'"
            ],
            "application/vnd.google.colaboratory.intrinsic+json": {
              "type": "string"
            }
          },
          "metadata": {},
          "execution_count": 92
        }
      ]
    },
    {
      "cell_type": "code",
      "source": [
        "emp1._mail = \"tttttttt@yahoo.edu\"\n",
        "\n",
        "emp1._mail"
      ],
      "metadata": {
        "colab": {
          "base_uri": "https://localhost:8080/",
          "height": 35
        },
        "id": "knIZhNEbkZrv",
        "outputId": "53af9441-fbd6-4642-d97b-eb5b2649dd83"
      },
      "execution_count": null,
      "outputs": [
        {
          "output_type": "execute_result",
          "data": {
            "text/plain": [
              "'tttttttt@yahoo.edu'"
            ],
            "application/vnd.google.colaboratory.intrinsic+json": {
              "type": "string"
            }
          },
          "metadata": {},
          "execution_count": 93
        }
      ]
    },
    {
      "cell_type": "code",
      "source": [],
      "metadata": {
        "id": "qFXhbU5hkhlJ"
      },
      "execution_count": null,
      "outputs": []
    }
  ]
}