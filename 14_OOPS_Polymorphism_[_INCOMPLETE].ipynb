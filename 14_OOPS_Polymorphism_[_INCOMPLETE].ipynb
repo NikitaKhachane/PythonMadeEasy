{
  "nbformat": 4,
  "nbformat_minor": 0,
  "metadata": {
    "colab": {
      "provenance": []
    },
    "kernelspec": {
      "name": "python3",
      "display_name": "Python 3"
    },
    "language_info": {
      "name": "python"
    }
  },
  "cells": [
    {
      "cell_type": "code",
      "execution_count": null,
      "metadata": {
        "id": "8p0edE1Sv4tl"
      },
      "outputs": [],
      "source": [
        "# '''polymorphism : a single thing/object/enetity that beahves differently\n",
        "# according to the situation and in different environment'''\n",
        "\n"
      ]
    },
    {
      "cell_type": "code",
      "source": [
        "def test(a,b):\n",
        "  return a+b\n",
        "\n",
        "test(3,4)"
      ],
      "metadata": {
        "colab": {
          "base_uri": "https://localhost:8080/"
        },
        "id": "1WXWDsClwxjv",
        "outputId": "05b9bd5e-b935-4f7d-d08e-8a50e4085ac2"
      },
      "execution_count": null,
      "outputs": [
        {
          "output_type": "execute_result",
          "data": {
            "text/plain": [
              "7"
            ]
          },
          "metadata": {},
          "execution_count": 2
        }
      ]
    },
    {
      "cell_type": "code",
      "source": [
        "test(\"sudh\",\"uhsfdug\")"
      ],
      "metadata": {
        "colab": {
          "base_uri": "https://localhost:8080/",
          "height": 35
        },
        "id": "H9pJlI_cw1Kt",
        "outputId": "9308f533-fbec-49fa-9e27-9e836b699133"
      },
      "execution_count": null,
      "outputs": [
        {
          "output_type": "execute_result",
          "data": {
            "text/plain": [
              "'sudhuhsfdug'"
            ],
            "application/vnd.google.colaboratory.intrinsic+json": {
              "type": "string"
            }
          },
          "metadata": {},
          "execution_count": 3
        }
      ]
    },
    {
      "cell_type": "code",
      "source": [
        "# as we can see\n",
        "# based on the type of input we provide (int or strings)\n",
        "# the action of the funciton changes\n",
        "# int ==> arithmetic addition\n",
        "# string ==> concatination\n",
        "\n",
        "# its the same method but based on the tyte of data the function changes\n",
        "# and gives different results"
      ],
      "metadata": {
        "id": "mQKLcrytw31w"
      },
      "execution_count": null,
      "outputs": []
    },
    {
      "cell_type": "code",
      "source": [
        "# seperate function\n",
        "def sharestories(app):  # once called this will go to the function inside the class\n",
        "  app.share_stories()   # object we pass decides the class it is gonna go to\n",
        "\n",
        "\n",
        "#defining classes\n",
        "class insta:\n",
        "  def share_stories(self):\n",
        "    print(\"This will share my insta stories\")\n",
        "\n",
        "\n",
        "class facebook:\n",
        "  def share_stories(self):\n",
        "    print(\"SHARE MY FACEBOOK STORIES\")\n",
        "\n",
        "\n",
        "#insta object\n",
        "i = insta()\n",
        "\n",
        "# facebook object\n",
        "f = facebook()"
      ],
      "metadata": {
        "id": "CObn2lnvxqQv"
      },
      "execution_count": null,
      "outputs": []
    },
    {
      "cell_type": "code",
      "source": [
        "sharestories(i)"
      ],
      "metadata": {
        "colab": {
          "base_uri": "https://localhost:8080/"
        },
        "id": "1XQL7cLRymyv",
        "outputId": "c3e211c2-e95e-474b-d6ad-bfec2cca1c9a"
      },
      "execution_count": null,
      "outputs": [
        {
          "output_type": "stream",
          "name": "stdout",
          "text": [
            "This will share my insta stories\n"
          ]
        }
      ]
    },
    {
      "cell_type": "code",
      "source": [
        "sharestories(f)"
      ],
      "metadata": {
        "colab": {
          "base_uri": "https://localhost:8080/"
        },
        "id": "-gHjFz2wyo68",
        "outputId": "76b08d96-2de4-4338-d109-45a84aed43bc"
      },
      "execution_count": null,
      "outputs": [
        {
          "output_type": "stream",
          "name": "stdout",
          "text": [
            "SHARE MY FACEBOOK STORIES\n"
          ]
        }
      ]
    },
    {
      "cell_type": "code",
      "source": [
        "# '''so we can say that\n",
        "# tfor the function sharestories() it behaves differentl;y\n",
        "# in chase of which object is passed'''"
      ],
      "metadata": {
        "id": "V5JUrkUpy7u5"
      },
      "execution_count": null,
      "outputs": []
    },
    {
      "cell_type": "code",
      "source": [
        "i.share_stories()"
      ],
      "metadata": {
        "colab": {
          "base_uri": "https://localhost:8080/"
        },
        "id": "jDYi4r0HzJpf",
        "outputId": "5d6c3429-dbe8-4f68-d376-492b82910b95"
      },
      "execution_count": null,
      "outputs": [
        {
          "output_type": "stream",
          "name": "stdout",
          "text": [
            "This will share my insta stories\n"
          ]
        }
      ]
    },
    {
      "cell_type": "code",
      "source": [
        "f.share_stories()"
      ],
      "metadata": {
        "colab": {
          "base_uri": "https://localhost:8080/"
        },
        "id": "OZdL_s1Gzdg4",
        "outputId": "b93aac2b-88ce-45d1-d8d2-dae71971c66d"
      },
      "execution_count": null,
      "outputs": [
        {
          "output_type": "stream",
          "name": "stdout",
          "text": [
            "SHARE MY FACEBOOK STORIES\n"
          ]
        }
      ]
    },
    {
      "cell_type": "code",
      "source": [
        "# in case of inheritance application\n",
        "\n",
        "class social_media:\n",
        "  def share_stories(self):\n",
        "    print(\"share a story\")\n",
        "  def upload_pic(self):\n",
        "    print(\"upload a picture\")\n",
        "\n",
        "class facebook(social_media):\n",
        "  def share_stories(self):\n",
        "    print(\"SHARING STORY ON FACEBOOK\")\n",
        "\n",
        "class insta(social_media):\n",
        "  def share_stories(self):\n",
        "    print(\"SHARING STORY ON INSTA\")"
      ],
      "metadata": {
        "id": "MBtNQ1vZzfFP"
      },
      "execution_count": null,
      "outputs": []
    },
    {
      "cell_type": "code",
      "source": [
        "# creating object for each class\n",
        "\n",
        "f = facebook()\n",
        "i = insta()"
      ],
      "metadata": {
        "id": "McnnE_d31ZDM"
      },
      "execution_count": null,
      "outputs": []
    },
    {
      "cell_type": "code",
      "source": [
        "f.share_stories()"
      ],
      "metadata": {
        "colab": {
          "base_uri": "https://localhost:8080/"
        },
        "id": "7pbqifk22mYy",
        "outputId": "292fa0db-0f37-4531-a749-ee43fe0c5ffb"
      },
      "execution_count": null,
      "outputs": [
        {
          "output_type": "stream",
          "name": "stdout",
          "text": [
            "SHARING STORY ON FACEBOOK\n"
          ]
        }
      ]
    },
    {
      "cell_type": "code",
      "source": [
        "f.upload_pic()"
      ],
      "metadata": {
        "colab": {
          "base_uri": "https://localhost:8080/"
        },
        "id": "CYQ5_f8320QG",
        "outputId": "0b5e41e6-0bae-4847-dee6-34eca24a6250"
      },
      "execution_count": null,
      "outputs": [
        {
          "output_type": "stream",
          "name": "stdout",
          "text": [
            "upload a picture\n"
          ]
        }
      ]
    },
    {
      "cell_type": "code",
      "source": [
        "i.share_stories()"
      ],
      "metadata": {
        "colab": {
          "base_uri": "https://localhost:8080/"
        },
        "id": "5lEbtV4N2-B6",
        "outputId": "4f354962-9d91-41fb-b5e3-2d3b2e4c2bf2"
      },
      "execution_count": null,
      "outputs": [
        {
          "output_type": "stream",
          "name": "stdout",
          "text": [
            "SHARING STORY ON INSTA\n"
          ]
        }
      ]
    },
    {
      "cell_type": "code",
      "source": [
        "i.upload_pic()"
      ],
      "metadata": {
        "colab": {
          "base_uri": "https://localhost:8080/"
        },
        "id": "dDkE8jg22_tE",
        "outputId": "f85cb904-8202-4645-96e3-31958856eb6c"
      },
      "execution_count": null,
      "outputs": [
        {
          "output_type": "stream",
          "name": "stdout",
          "text": [
            "upload a picture\n"
          ]
        }
      ]
    },
    {
      "cell_type": "code",
      "source": [
        "# How to create your own coustam exception (raise exception)\n",
        "\n",
        "class test(Exception):   # '''test is the class that is inherited from Exception class\n",
        "  def __init__(self,msg):  # this may not work wothout raise keyword'''\n",
        "    self.msg = msg\n",
        "\n",
        "\n",
        "try:\n",
        "  raise(test(\"THIS is my own exception classs\"))\n",
        "except test as t:\n",
        "  print(t)"
      ],
      "metadata": {
        "colab": {
          "base_uri": "https://localhost:8080/"
        },
        "id": "gzC0rTaQ3Cr5",
        "outputId": "f0be3699-2260-4690-a73f-c4f2eb9b9cc3"
      },
      "execution_count": null,
      "outputs": [
        {
          "output_type": "stream",
          "name": "stdout",
          "text": [
            "THIS is my own exception classs\n"
          ]
        }
      ]
    },
    {
      "cell_type": "code",
      "source": [
        "try:\n",
        "  5/0\n",
        "except test as t:\n",
        "  print(t)"
      ],
      "metadata": {
        "colab": {
          "base_uri": "https://localhost:8080/",
          "height": 193
        },
        "id": "jwo8yEnl3_zu",
        "outputId": "41f97b48-18f7-4b7e-9064-1afcdc79ae9f"
      },
      "execution_count": null,
      "outputs": [
        {
          "output_type": "error",
          "ename": "ZeroDivisionError",
          "evalue": "division by zero",
          "traceback": [
            "\u001b[0;31m---------------------------------------------------------------------------\u001b[0m",
            "\u001b[0;31mZeroDivisionError\u001b[0m                         Traceback (most recent call last)",
            "\u001b[0;32m<ipython-input-34-4c379d841552>\u001b[0m in \u001b[0;36m<cell line: 0>\u001b[0;34m()\u001b[0m\n\u001b[1;32m      1\u001b[0m \u001b[0;32mtry\u001b[0m\u001b[0;34m:\u001b[0m\u001b[0;34m\u001b[0m\u001b[0;34m\u001b[0m\u001b[0m\n\u001b[0;32m----> 2\u001b[0;31m   \u001b[0;36m5\u001b[0m\u001b[0;34m/\u001b[0m\u001b[0;36m0\u001b[0m\u001b[0;34m\u001b[0m\u001b[0;34m\u001b[0m\u001b[0m\n\u001b[0m\u001b[1;32m      3\u001b[0m \u001b[0;32mexcept\u001b[0m \u001b[0mtest\u001b[0m \u001b[0;32mas\u001b[0m \u001b[0mt\u001b[0m\u001b[0;34m:\u001b[0m\u001b[0;34m\u001b[0m\u001b[0;34m\u001b[0m\u001b[0m\n\u001b[1;32m      4\u001b[0m   \u001b[0mprint\u001b[0m\u001b[0;34m(\u001b[0m\u001b[0mt\u001b[0m\u001b[0;34m)\u001b[0m\u001b[0;34m\u001b[0m\u001b[0;34m\u001b[0m\u001b[0m\n",
            "\u001b[0;31mZeroDivisionError\u001b[0m: division by zero"
          ]
        }
      ]
    },
    {
      "cell_type": "code",
      "source": [
        "  # Q 1) creat ur own classfor achive multiple  inheritance\n",
        "  # Q2 create own class for polymorphism\n",
        "  # Q 3 create own class for coustom exception\n",
        "  # Q 4 create own class to achive encapsulation\n",
        "  # Q 5 create own class to achive method overloading and overridding"
      ],
      "metadata": {
        "id": "uRRlm5dj4byo"
      },
      "execution_count": null,
      "outputs": []
    },
    {
      "cell_type": "code",
      "source": [
        "  # Q 1) creat ur own classfor achive multiple  inheritance\n",
        "\n",
        "\n",
        "class parent_1:\n",
        "  def __init__(self,num1,num2):\n",
        "    self.num1 = num1\n",
        "    self.num2 = num2\n",
        "\n",
        "  def arith(self):\n",
        "    return self.num1 * self.num2\n",
        "\n",
        "class parent_2:\n",
        "  def __init__(self,str1,str2):\n",
        "    self.str1 = str1\n",
        "    self.str2 = str2\n",
        "\n",
        "  def con(self):\n",
        "    return self.str1 + self.str2\n",
        "\n",
        "class child(parent_1,parent_2):\n",
        "  def __init__(self,num1,num2,str1,str2):\n",
        "    parent_1.__init__(self,num1,num2)\n",
        "    parent_2.__init__(self,str1,str2)\n",
        "  print(\"I am the child class\")\n",
        "\n",
        "# creating object for child class\n",
        "multi = child(4,5,\"nikita\",\" siddhant\")\n",
        "\n",
        "# Using the methods from the parent classes\n",
        "print(multi.arith())  # from parent_1\n",
        "print(multi.con())    # from parent_2\n",
        "\n",
        "\n"
      ],
      "metadata": {
        "colab": {
          "base_uri": "https://localhost:8080/"
        },
        "id": "O_8LKVGVAB4N",
        "outputId": "0dd6c579-ac48-4b2f-d52b-b88380a79426"
      },
      "execution_count": null,
      "outputs": [
        {
          "output_type": "stream",
          "name": "stdout",
          "text": [
            "I am the child class\n",
            "20\n",
            "nikita siddhant\n"
          ]
        }
      ]
    },
    {
      "cell_type": "code",
      "source": [
        "  # Q2 create own class for polymorphism\n",
        "\n",
        "class parent:\n",
        "    def __init__(self,a,b):\n",
        "      self.a = a\n",
        "      self.b = b\n",
        "\n",
        "    def add(self):\n",
        "      return self.a +self.b\n",
        "\n",
        "obj = parent(6,5)"
      ],
      "metadata": {
        "id": "f8KQDTHtBQzr"
      },
      "execution_count": null,
      "outputs": []
    },
    {
      "cell_type": "code",
      "source": [
        "obj.add()"
      ],
      "metadata": {
        "colab": {
          "base_uri": "https://localhost:8080/"
        },
        "id": "HjTYL6yFBWWL",
        "outputId": "d4965b19-47d6-4dbc-b957-b1e2d00df5bd"
      },
      "execution_count": null,
      "outputs": [
        {
          "output_type": "execute_result",
          "data": {
            "text/plain": [
              "11"
            ]
          },
          "metadata": {},
          "execution_count": 69
        }
      ]
    },
    {
      "cell_type": "code",
      "source": [
        "obj1 = parent(\"nik\",\" sid\")\n",
        "obj1.add()"
      ],
      "metadata": {
        "colab": {
          "base_uri": "https://localhost:8080/",
          "height": 35
        },
        "id": "-eWcI2J8FSHh",
        "outputId": "5cc5bc43-36a9-4c1d-d6aa-c7f0f0ff42df"
      },
      "execution_count": null,
      "outputs": [
        {
          "output_type": "execute_result",
          "data": {
            "text/plain": [
              "'nik sid'"
            ],
            "application/vnd.google.colaboratory.intrinsic+json": {
              "type": "string"
            }
          },
          "metadata": {},
          "execution_count": 71
        }
      ]
    },
    {
      "cell_type": "code",
      "source": [
        "  # Q 3 create own class for coustom exception\n",
        "\n",
        " # CONTINUE FROM TIME 53:37 ON THE VID"
      ],
      "metadata": {
        "id": "HHwrL1npFYo6"
      },
      "execution_count": null,
      "outputs": []
    },
    {
      "cell_type": "code",
      "source": [],
      "metadata": {
        "id": "FLNq4bunGTlY"
      },
      "execution_count": null,
      "outputs": []
    }
  ]
}